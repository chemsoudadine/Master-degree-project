{
 "cells": [
  {
   "cell_type": "markdown",
   "metadata": {
    "id": "KG-DniNj6yF9"
   },
   "source": [
    "# __Data Preparation - Préparation des données__\n"
   ]
  },
  {
   "cell_type": "markdown",
   "metadata": {
    "id": "7INS273c7IhD"
   },
   "source": [
    "## __1 - Data File__ "
   ]
  },
  {
   "cell_type": "code",
   "execution_count": 1,
   "metadata": {
    "colab": {
     "base_uri": "https://localhost:8080/"
    },
    "id": "GrmDECoR9GdV",
    "outputId": "aee4a6ea-88c3-45e8-dcda-68767a7a4a50"
   },
   "outputs": [
    {
     "name": "stdout",
     "output_type": "stream",
     "text": [
      "Mounted at /content/drive/\n"
     ]
    }
   ],
   "source": [
    "#Data files ...Importer datasets\n",
    "#   Code Here\n",
    "from google.colab import drive\n",
    "drive.mount('/content/drive/') # upload dataset here if you have dataset in google drive"
   ]
  },
  {
   "cell_type": "code",
   "execution_count": 1,
   "metadata": {
    "colab": {
     "base_uri": "https://localhost:8080/",
     "height": 300
    },
    "id": "hxF8AU3Y-HFq",
    "outputId": "eb75bd2e-e1cb-4770-b11d-55acbd9f9a91"
   },
   "outputs": [
    {
     "data": {
      "text/html": [
       "<div>\n",
       "<style scoped>\n",
       "    .dataframe tbody tr th:only-of-type {\n",
       "        vertical-align: middle;\n",
       "    }\n",
       "\n",
       "    .dataframe tbody tr th {\n",
       "        vertical-align: top;\n",
       "    }\n",
       "\n",
       "    .dataframe thead th {\n",
       "        text-align: right;\n",
       "    }\n",
       "</style>\n",
       "<table border=\"1\" class=\"dataframe\">\n",
       "  <thead>\n",
       "    <tr style=\"text-align: right;\">\n",
       "      <th></th>\n",
       "      <th>duration</th>\n",
       "      <th>protocol_type</th>\n",
       "      <th>service</th>\n",
       "      <th>flag</th>\n",
       "      <th>src_bytes</th>\n",
       "      <th>dst_bytes</th>\n",
       "      <th>land</th>\n",
       "      <th>wrong_fragment</th>\n",
       "      <th>urgent</th>\n",
       "      <th>hot</th>\n",
       "      <th>...</th>\n",
       "      <th>dst_host_srv_count</th>\n",
       "      <th>dst_host_same_srv_rate</th>\n",
       "      <th>dst_host_diff_srv_rate</th>\n",
       "      <th>dst_host_same_src_port_rate</th>\n",
       "      <th>dst_host_srv_diff_host_rate</th>\n",
       "      <th>dst_host_serror_rate</th>\n",
       "      <th>dst_host_srv_serror_rate</th>\n",
       "      <th>dst_host_rerror_rate</th>\n",
       "      <th>dst_host_srv_rerror_rate</th>\n",
       "      <th>label</th>\n",
       "    </tr>\n",
       "  </thead>\n",
       "  <tbody>\n",
       "    <tr>\n",
       "      <th>0</th>\n",
       "      <td>0</td>\n",
       "      <td>tcp</td>\n",
       "      <td>http</td>\n",
       "      <td>SF</td>\n",
       "      <td>181</td>\n",
       "      <td>5450</td>\n",
       "      <td>0</td>\n",
       "      <td>0</td>\n",
       "      <td>0</td>\n",
       "      <td>0</td>\n",
       "      <td>...</td>\n",
       "      <td>9</td>\n",
       "      <td>1.0</td>\n",
       "      <td>0.0</td>\n",
       "      <td>0.11</td>\n",
       "      <td>0.0</td>\n",
       "      <td>0.0</td>\n",
       "      <td>0.0</td>\n",
       "      <td>0.0</td>\n",
       "      <td>0.0</td>\n",
       "      <td>NoIntrusion</td>\n",
       "    </tr>\n",
       "    <tr>\n",
       "      <th>1</th>\n",
       "      <td>0</td>\n",
       "      <td>tcp</td>\n",
       "      <td>http</td>\n",
       "      <td>SF</td>\n",
       "      <td>239</td>\n",
       "      <td>486</td>\n",
       "      <td>0</td>\n",
       "      <td>0</td>\n",
       "      <td>0</td>\n",
       "      <td>0</td>\n",
       "      <td>...</td>\n",
       "      <td>19</td>\n",
       "      <td>1.0</td>\n",
       "      <td>0.0</td>\n",
       "      <td>0.05</td>\n",
       "      <td>0.0</td>\n",
       "      <td>0.0</td>\n",
       "      <td>0.0</td>\n",
       "      <td>0.0</td>\n",
       "      <td>0.0</td>\n",
       "      <td>NoIntrusion</td>\n",
       "    </tr>\n",
       "    <tr>\n",
       "      <th>2</th>\n",
       "      <td>0</td>\n",
       "      <td>tcp</td>\n",
       "      <td>http</td>\n",
       "      <td>SF</td>\n",
       "      <td>235</td>\n",
       "      <td>1337</td>\n",
       "      <td>0</td>\n",
       "      <td>0</td>\n",
       "      <td>0</td>\n",
       "      <td>0</td>\n",
       "      <td>...</td>\n",
       "      <td>29</td>\n",
       "      <td>1.0</td>\n",
       "      <td>0.0</td>\n",
       "      <td>0.03</td>\n",
       "      <td>0.0</td>\n",
       "      <td>0.0</td>\n",
       "      <td>0.0</td>\n",
       "      <td>0.0</td>\n",
       "      <td>0.0</td>\n",
       "      <td>NoIntrusion</td>\n",
       "    </tr>\n",
       "    <tr>\n",
       "      <th>3</th>\n",
       "      <td>0</td>\n",
       "      <td>tcp</td>\n",
       "      <td>http</td>\n",
       "      <td>SF</td>\n",
       "      <td>219</td>\n",
       "      <td>1337</td>\n",
       "      <td>0</td>\n",
       "      <td>0</td>\n",
       "      <td>0</td>\n",
       "      <td>0</td>\n",
       "      <td>...</td>\n",
       "      <td>39</td>\n",
       "      <td>1.0</td>\n",
       "      <td>0.0</td>\n",
       "      <td>0.03</td>\n",
       "      <td>0.0</td>\n",
       "      <td>0.0</td>\n",
       "      <td>0.0</td>\n",
       "      <td>0.0</td>\n",
       "      <td>0.0</td>\n",
       "      <td>NoIntrusion</td>\n",
       "    </tr>\n",
       "    <tr>\n",
       "      <th>4</th>\n",
       "      <td>0</td>\n",
       "      <td>tcp</td>\n",
       "      <td>http</td>\n",
       "      <td>SF</td>\n",
       "      <td>217</td>\n",
       "      <td>2032</td>\n",
       "      <td>0</td>\n",
       "      <td>0</td>\n",
       "      <td>0</td>\n",
       "      <td>0</td>\n",
       "      <td>...</td>\n",
       "      <td>49</td>\n",
       "      <td>1.0</td>\n",
       "      <td>0.0</td>\n",
       "      <td>0.02</td>\n",
       "      <td>0.0</td>\n",
       "      <td>0.0</td>\n",
       "      <td>0.0</td>\n",
       "      <td>0.0</td>\n",
       "      <td>0.0</td>\n",
       "      <td>NoIntrusion</td>\n",
       "    </tr>\n",
       "  </tbody>\n",
       "</table>\n",
       "<p>5 rows × 42 columns</p>\n",
       "</div>"
      ],
      "text/plain": [
       "   duration protocol_type service flag  src_bytes  dst_bytes  land  \\\n",
       "0         0           tcp    http   SF        181       5450     0   \n",
       "1         0           tcp    http   SF        239        486     0   \n",
       "2         0           tcp    http   SF        235       1337     0   \n",
       "3         0           tcp    http   SF        219       1337     0   \n",
       "4         0           tcp    http   SF        217       2032     0   \n",
       "\n",
       "   wrong_fragment  urgent  hot  ...  dst_host_srv_count  \\\n",
       "0               0       0    0  ...                   9   \n",
       "1               0       0    0  ...                  19   \n",
       "2               0       0    0  ...                  29   \n",
       "3               0       0    0  ...                  39   \n",
       "4               0       0    0  ...                  49   \n",
       "\n",
       "   dst_host_same_srv_rate  dst_host_diff_srv_rate  \\\n",
       "0                     1.0                     0.0   \n",
       "1                     1.0                     0.0   \n",
       "2                     1.0                     0.0   \n",
       "3                     1.0                     0.0   \n",
       "4                     1.0                     0.0   \n",
       "\n",
       "   dst_host_same_src_port_rate  dst_host_srv_diff_host_rate  \\\n",
       "0                         0.11                          0.0   \n",
       "1                         0.05                          0.0   \n",
       "2                         0.03                          0.0   \n",
       "3                         0.03                          0.0   \n",
       "4                         0.02                          0.0   \n",
       "\n",
       "   dst_host_serror_rate  dst_host_srv_serror_rate  dst_host_rerror_rate  \\\n",
       "0                   0.0                       0.0                   0.0   \n",
       "1                   0.0                       0.0                   0.0   \n",
       "2                   0.0                       0.0                   0.0   \n",
       "3                   0.0                       0.0                   0.0   \n",
       "4                   0.0                       0.0                   0.0   \n",
       "\n",
       "   dst_host_srv_rerror_rate        label  \n",
       "0                       0.0  NoIntrusion  \n",
       "1                       0.0  NoIntrusion  \n",
       "2                       0.0  NoIntrusion  \n",
       "3                       0.0  NoIntrusion  \n",
       "4                       0.0  NoIntrusion  \n",
       "\n",
       "[5 rows x 42 columns]"
      ]
     },
     "execution_count": 1,
     "metadata": {},
     "output_type": "execute_result"
    }
   ],
   "source": [
    "#Reading the dataset\n",
    "import pandas as pd\n",
    "\n",
    "df =pd.read_csv(\"bin_data.csv\")\n",
    "df.head()"
   ]
  },
  {
   "cell_type": "code",
   "execution_count": 2,
   "metadata": {
    "colab": {
     "base_uri": "https://localhost:8080/"
    },
    "id": "_ZGG1rfG-HCz",
    "outputId": "0089b707-b625-40b0-fb9c-a5b08eb9fa2c"
   },
   "outputs": [
    {
     "name": "stdout",
     "output_type": "stream",
     "text": [
      "Nombre des lignes :  494020\n"
     ]
    }
   ],
   "source": [
    "#Nombre des lignes\n",
    "print(\"Nombre des lignes : \",len(df))"
   ]
  },
  {
   "cell_type": "code",
   "execution_count": 3,
   "metadata": {
    "colab": {
     "base_uri": "https://localhost:8080/"
    },
    "id": "sE1GgvjM_VkH",
    "outputId": "a15a0e73-9f3e-413c-b601-e9c25db53ad0"
   },
   "outputs": [
    {
     "name": "stdout",
     "output_type": "stream",
     "text": [
      "classes : \n",
      "Intrusion      396743\n",
      "NoIntrusion     97277\n",
      "Name: label, dtype: int64\n",
      "\n",
      "Nombre de classes sont : 2\n"
     ]
    }
   ],
   "source": [
    "h = df.label.value_counts()\n",
    "print(\"classes : \")\n",
    "print(h)\n",
    "print(\"\\nNombre de classes sont :\", len(h))"
   ]
  },
  {
   "cell_type": "code",
   "execution_count": 4,
   "metadata": {
    "colab": {
     "base_uri": "https://localhost:8080/"
    },
    "id": "3shb_Vr__ul9",
    "outputId": "7a6ac2b7-fe73-44f2-f20a-3a00c7999df4"
   },
   "outputs": [
    {
     "data": {
      "text/plain": [
       "NoIntrusion     97277\n",
       "Intrusion      396743\n",
       "Name: label, dtype: int64"
      ]
     },
     "execution_count": 4,
     "metadata": {},
     "output_type": "execute_result"
    }
   ],
   "source": [
    "df.label.value_counts().sort_values()"
   ]
  },
  {
   "cell_type": "markdown",
   "metadata": {
    "id": "YfcS6yZh_6ZV"
   },
   "source": [
    "> __Pour afficcher lezs classes en circle %__"
   ]
  },
  {
   "cell_type": "code",
   "execution_count": 5,
   "metadata": {
    "id": "mnjWaSUm_5mM"
   },
   "outputs": [],
   "source": [
    "import matplotlib.pyplot as plt"
   ]
  },
  {
   "cell_type": "code",
   "execution_count": 7,
   "metadata": {
    "colab": {
     "base_uri": "https://localhost:8080/",
     "height": 482
    },
    "id": "k5ZgSpeM_zhF",
    "outputId": "aae155a8-e104-49f5-9b9e-5c58c936b22d"
   },
   "outputs": [
    {
     "data": {
      "image/png": "[encoded data removed]",
      "text/plain": [
       "<Figure size 576x576 with 1 Axes>"
      ]
     },
     "metadata": {},
     "output_type": "display_data"
    }
   ],
   "source": [
    "# pie chart distribution of Intruison and Non-Intrusion labels\n",
    "plt.figure(figsize=(8,8))\n",
    "plt.pie(df.label.value_counts().sort_values(),labels=df.label.unique(),autopct='%0.2f%%')\n",
    "#plt.pie(df.label.value_counts(),labels=le1.classes_ ,autopct='%0.2f%%')\n",
    "plt.title(\"Intrusion and Non-Intrusion Classes\")\n",
    "plt.legend()\n",
    "plt.savefig('/content/drive/MyDrive/Datasets/Pie_chart_binary.png')\n",
    "plt.show()"
   ]
  },
  {
   "cell_type": "markdown",
   "metadata": {
    "id": "wKvf5p8G7IeL"
   },
   "source": [
    "## __2 - Data Cleaning__"
   ]
  },
  {
   "cell_type": "markdown",
   "metadata": {
    "id": "9_x8AwB1ATqz"
   },
   "source": [
    "> __Missing values__"
   ]
  },
  {
   "cell_type": "code",
   "execution_count": 6,
   "metadata": {
    "colab": {
     "base_uri": "https://localhost:8080/"
    },
    "id": "R2snMPYX89VF",
    "outputId": "4945310f-cc89-4a5e-8715-e73cba64d83d"
   },
   "outputs": [
    {
     "data": {
      "text/plain": [
       "duration                       0\n",
       "protocol_type                  0\n",
       "service                        0\n",
       "flag                           0\n",
       "src_bytes                      0\n",
       "dst_bytes                      0\n",
       "land                           0\n",
       "wrong_fragment                 0\n",
       "urgent                         0\n",
       "hot                            0\n",
       "num_failed_logins              0\n",
       "logged_in                      0\n",
       "lnum_compromised               0\n",
       "lroot_shell                    0\n",
       "lsu_attempted                  0\n",
       "lnum_root                      0\n",
       "lnum_file_creations            0\n",
       "lnum_shells                    0\n",
       "lnum_access_files              0\n",
       "lnum_outbound_cmds             0\n",
       "is_host_login                  0\n",
       "is_guest_login                 0\n",
       "count                          0\n",
       "srv_count                      0\n",
       "serror_rate                    0\n",
       "srv_serror_rate                0\n",
       "rerror_rate                    0\n",
       "srv_rerror_rate                0\n",
       "same_srv_rate                  0\n",
       "diff_srv_rate                  0\n",
       "srv_diff_host_rate             0\n",
       "dst_host_count                 0\n",
       "dst_host_srv_count             0\n",
       "dst_host_same_srv_rate         0\n",
       "dst_host_diff_srv_rate         0\n",
       "dst_host_same_src_port_rate    0\n",
       "dst_host_srv_diff_host_rate    0\n",
       "dst_host_serror_rate           0\n",
       "dst_host_srv_serror_rate       0\n",
       "dst_host_rerror_rate           0\n",
       "dst_host_srv_rerror_rate       0\n",
       "label                          0\n",
       "dtype: int64"
      ]
     },
     "execution_count": 6,
     "metadata": {},
     "output_type": "execute_result"
    }
   ],
   "source": [
    "#Data Cleaning\n",
    "#   Code Here\n",
    "df.isnull().sum()"
   ]
  },
  {
   "cell_type": "markdown",
   "metadata": {
    "id": "cOdLgKsnAqsa"
   },
   "source": [
    "> -  __Aucun valurs missing__"
   ]
  },
  {
   "cell_type": "markdown",
   "metadata": {
    "id": "SRdwVGeX7Ibr"
   },
   "source": [
    "## __3 - Features Selection - Selection Des attributes__"
   ]
  },
  {
   "cell_type": "code",
   "execution_count": 7,
   "metadata": {
    "id": "MnD5DEsVCqmE"
   },
   "outputs": [],
   "source": [
    "DataFtr = df # DataFr pour utiliser dataset dans features selction"
   ]
  },
  {
   "cell_type": "markdown",
   "metadata": {
    "id": "nLEUOORIGXKQ"
   },
   "source": [
    "> - __Encoding categorical valurs to numbers__"
   ]
  },
  {
   "cell_type": "code",
   "execution_count": 8,
   "metadata": {
    "id": "NBwUsd_VGVM5"
   },
   "outputs": [],
   "source": [
    "# protocol_type feature mapping\n",
    "pmap = {'icmp':0, 'tcp':1, 'udp':2}\n",
    "DataFtr['protocol_type'] = DataFtr['protocol_type'].map(pmap)\n",
    "\n",
    "# flag feature mapping\n",
    "fmap = {'SF':0, 'S0':1, 'REJ':2, 'RSTR':3, 'RSTO':4, 'SH':5, 'S1':6, 'S2':7, 'RSTOS0':8, 'S3':9, 'OTH':10}\n",
    "DataFtr['flag'] = DataFtr['flag'].map(fmap)\n",
    "\n",
    "#Service \n",
    "Smap = {'http':0, 'smtp':1, 'finger':2, 'domain_u':3, 'auth':4, 'telnet':5, 'ftp':6,\n",
    "       'eco_i':7, 'ntp_u':8, 'ecr_i':9, 'other':10, 'private':11, 'pop_3':12, 'ftp_data':13,\n",
    "       'rje':14, 'time':15, 'mtp':16, 'link':17, 'remote_job':18, 'gopher':19, 'ssh':20,\n",
    "       'name':21, 'whois':22, 'domain':23, 'login':24, 'imap4':25, 'daytime':26, 'ctf':27,\n",
    "       'nntp':28, 'shell':29, 'IRC':30, 'nnsp':31, 'http_443':32, 'exec':33, 'printer':34,\n",
    "       'efs':35, 'courier':36, 'uucp':37, 'klogin':38, 'kshell':39, 'echo':40, 'discard':41,\n",
    "       'systat':42, 'supdup':43, 'iso_tsap':44, 'hostnames':45, 'csnet_ns':46, 'pop_2':47,\n",
    "       'sunrpc':48, 'uucp_path':49, 'netbios_ns':50, 'netbios_ssn':51, 'netbios_dgm':52,\n",
    "       'sql_net':51, 'vmnet':52, 'bgp':53, 'Z39_50':54, 'ldap':55, 'netstat':56, 'urh_i':57,\n",
    "       'X11':58, 'urp_i':59, 'pm_dump':60, 'tftp_u':61, 'tim_i':62, 'red_i':63}\n",
    "\n",
    "DataFtr['service'] = DataFtr['service'].map(Smap)\n",
    "\n",
    "#DataFtr.drop('service', axis = 1, inplace = True)"
   ]
  },
  {
   "cell_type": "code",
   "execution_count": 9,
   "metadata": {
    "colab": {
     "base_uri": "https://localhost:8080/"
    },
    "id": "zsgpSq3hCn6M",
    "outputId": "16a7356e-e76e-4632-d876-564d82557619"
   },
   "outputs": [
    {
     "data": {
      "text/plain": [
       "Index(['duration', 'protocol_type', 'service', 'flag', 'src_bytes',\n",
       "       'dst_bytes', 'land', 'wrong_fragment', 'urgent', 'hot',\n",
       "       'num_failed_logins', 'logged_in', 'lnum_compromised', 'lroot_shell',\n",
       "       'lsu_attempted', 'lnum_root', 'lnum_file_creations', 'lnum_shells',\n",
       "       'lnum_access_files', 'lnum_outbound_cmds', 'is_host_login',\n",
       "       'is_guest_login', 'count', 'srv_count', 'serror_rate',\n",
       "       'srv_serror_rate', 'rerror_rate', 'srv_rerror_rate', 'same_srv_rate',\n",
       "       'diff_srv_rate', 'srv_diff_host_rate', 'dst_host_count',\n",
       "       'dst_host_srv_count', 'dst_host_same_srv_rate',\n",
       "       'dst_host_diff_srv_rate', 'dst_host_same_src_port_rate',\n",
       "       'dst_host_srv_diff_host_rate', 'dst_host_serror_rate',\n",
       "       'dst_host_srv_serror_rate', 'dst_host_rerror_rate',\n",
       "       'dst_host_srv_rerror_rate', 'label'],\n",
       "      dtype='object')"
      ]
     },
     "execution_count": 9,
     "metadata": {},
     "output_type": "execute_result"
    }
   ],
   "source": [
    "DataFtr.columns"
   ]
  },
  {
   "cell_type": "markdown",
   "metadata": {
    "id": "6CYgzfxECWoV"
   },
   "source": [
    "> - __X = Tous Les attribures sans class(labesl)__\n",
    "> - __y = classe(label)__"
   ]
  },
  {
   "cell_type": "code",
   "execution_count": 10,
   "metadata": {
    "id": "mDEcaxYjEBKg"
   },
   "outputs": [],
   "source": [
    "X = DataFtr[ ['duration', 'protocol_type', 'service', 'flag', 'src_bytes',\n",
    "       'dst_bytes', 'land', 'wrong_fragment', 'urgent', 'hot',\n",
    "       'num_failed_logins', 'logged_in', 'lnum_compromised', 'lroot_shell',\n",
    "       'lsu_attempted', 'lnum_root', 'lnum_file_creations', 'lnum_shells',\n",
    "       'lnum_access_files', 'lnum_outbound_cmds', 'is_host_login',\n",
    "       'is_guest_login', 'count', 'srv_count', 'serror_rate',\n",
    "       'srv_serror_rate', 'rerror_rate', 'srv_rerror_rate', 'same_srv_rate',\n",
    "       'diff_srv_rate', 'srv_diff_host_rate', 'dst_host_count',\n",
    "       'dst_host_srv_count', 'dst_host_same_srv_rate',\n",
    "       'dst_host_diff_srv_rate', 'dst_host_same_src_port_rate',\n",
    "       'dst_host_srv_diff_host_rate', 'dst_host_serror_rate',\n",
    "       'dst_host_srv_serror_rate', 'dst_host_rerror_rate',\n",
    "       'dst_host_srv_rerror_rate'] ]\n",
    "\n",
    "y = DataFtr.label"
   ]
  },
  {
   "cell_type": "markdown",
   "metadata": {
    "id": "jZ7d_9lwA_ZR"
   },
   "source": [
    "### __3.1 - Chi-square (Chi2)__"
   ]
  },
  {
   "cell_type": "markdown",
   "metadata": {
    "id": "EIDKsucIVj4b"
   },
   "source": [
    "#### __First methode__"
   ]
  },
  {
   "cell_type": "code",
   "execution_count": 11,
   "metadata": {
    "id": "rCCqaWJ4Vq4C"
   },
   "outputs": [],
   "source": [
    "## Perform chi2 test\n",
    "### chi2 returns 2 values\n",
    "### Fscore and the pvalue\n",
    "from sklearn.feature_selection import chi2\n",
    "Chi2Square=chi2(X,y)"
   ]
  },
  {
   "cell_type": "code",
   "execution_count": 68,
   "metadata": {
    "colab": {
     "base_uri": "https://localhost:8080/"
    },
    "id": "xQU0_aSLV6MM",
    "outputId": "27b16205-63a0-4720-bbd9-275e4d0cb84f"
   },
   "outputs": [
    {
     "data": {
      "text/plain": [
       "(array([7.18321019e+07, 1.33217849e+05, 4.64411854e+05, 1.29454927e+04,\n",
       "        1.39780194e+08, 8.82935602e+08, 3.19121885e+00, 7.79210486e+02,\n",
       "        2.37562973e+00, 3.50428886e+02, 8.80650091e-01, 2.66133562e+05,\n",
       "        3.98302745e+03, 1.70289676e+01, 6.36071106e+01, 2.13543486e+04,\n",
       "        1.47833266e+03, 1.22681309e+02, 1.92089639e+03,            nan,\n",
       "                   nan, 5.14676945e+02, 3.82959638e+07, 3.28794609e+07,\n",
       "        2.10192479e+04, 2.09599944e+04, 4.69439941e+00, 4.60804837e+00,\n",
       "        5.75663725e+03, 4.34276621e+01, 4.59442850e+04, 3.67279019e+06,\n",
       "        1.15283999e+05, 1.33711902e+03, 2.56333077e+03, 4.40711705e+04,\n",
       "        5.51209251e+03, 2.08990858e+04, 2.11142365e+04, 3.33768818e-01,\n",
       "        5.27712781e+00]),\n",
       " array([0.00000000e+000, 0.00000000e+000, 0.00000000e+000, 0.00000000e+000,\n",
       "        0.00000000e+000, 0.00000000e+000, 7.40347925e-002, 1.78710411e-171,\n",
       "        1.23241892e-001, 3.41777753e-078, 3.48023686e-001, 0.00000000e+000,\n",
       "        0.00000000e+000, 3.68138798e-005, 1.51879960e-015, 0.00000000e+000,\n",
       "        0.00000000e+000, 1.63746633e-028, 0.00000000e+000,             nan,\n",
       "                    nan, 6.09051932e-114, 0.00000000e+000, 0.00000000e+000,\n",
       "        0.00000000e+000, 0.00000000e+000, 3.02610730e-002, 3.18222297e-002,\n",
       "        0.00000000e+000, 4.39925019e-011, 0.00000000e+000, 0.00000000e+000,\n",
       "        0.00000000e+000, 9.70118533e-293, 0.00000000e+000, 0.00000000e+000,\n",
       "        0.00000000e+000, 0.00000000e+000, 0.00000000e+000, 5.63448253e-001,\n",
       "        2.16073636e-002]))"
      ]
     },
     "execution_count": 68,
     "metadata": {},
     "output_type": "execute_result"
    }
   ],
   "source": [
    "Chi2Square"
   ]
  },
  {
   "cell_type": "code",
   "execution_count": 69,
   "metadata": {
    "colab": {
     "base_uri": "https://localhost:8080/"
    },
    "id": "-XJDGgx7V6JR",
    "outputId": "1ef94c4f-ed4c-42f2-c9eb-1d1cb390f915"
   },
   "outputs": [
    {
     "data": {
      "text/plain": [
       "dst_bytes                      8.829356e+08\n",
       "src_bytes                      1.397802e+08\n",
       "duration                       7.183210e+07\n",
       "count                          3.829596e+07\n",
       "srv_count                      3.287946e+07\n",
       "dst_host_count                 3.672790e+06\n",
       "service                        4.644119e+05\n",
       "logged_in                      2.661336e+05\n",
       "protocol_type                  1.332178e+05\n",
       "dst_host_srv_count             1.152840e+05\n",
       "srv_diff_host_rate             4.594428e+04\n",
       "dst_host_same_src_port_rate    4.407117e+04\n",
       "lnum_root                      2.135435e+04\n",
       "dst_host_srv_serror_rate       2.111424e+04\n",
       "serror_rate                    2.101925e+04\n",
       "srv_serror_rate                2.095999e+04\n",
       "dst_host_serror_rate           2.089909e+04\n",
       "flag                           1.294549e+04\n",
       "same_srv_rate                  5.756637e+03\n",
       "dst_host_srv_diff_host_rate    5.512093e+03\n",
       "lnum_compromised               3.983027e+03\n",
       "dst_host_diff_srv_rate         2.563331e+03\n",
       "lnum_access_files              1.920896e+03\n",
       "lnum_file_creations            1.478333e+03\n",
       "dst_host_same_srv_rate         1.337119e+03\n",
       "wrong_fragment                 7.792105e+02\n",
       "is_guest_login                 5.146769e+02\n",
       "hot                            3.504289e+02\n",
       "lnum_shells                    1.226813e+02\n",
       "lsu_attempted                  6.360711e+01\n",
       "diff_srv_rate                  4.342766e+01\n",
       "lroot_shell                    1.702897e+01\n",
       "dst_host_srv_rerror_rate       5.277128e+00\n",
       "rerror_rate                    4.694399e+00\n",
       "srv_rerror_rate                4.608048e+00\n",
       "land                           3.191219e+00\n",
       "urgent                         2.375630e+00\n",
       "num_failed_logins              8.806501e-01\n",
       "dst_host_rerror_rate           3.337688e-01\n",
       "lnum_outbound_cmds                      NaN\n",
       "is_host_login                           NaN\n",
       "dtype: float64"
      ]
     },
     "execution_count": 69,
     "metadata": {},
     "output_type": "execute_result"
    }
   ],
   "source": [
    "import pandas as pd\n",
    "\n",
    "Chi2Square = pd.Series(Chi2Square[0])\n",
    "Chi2Square.index = X.columns\n",
    "Chi2Square.sort_values(ascending=False)"
   ]
  },
  {
   "cell_type": "markdown",
   "metadata": {
    "id": "_vgnxNfqVopp"
   },
   "source": [
    "#### __Second methode__"
   ]
  },
  {
   "cell_type": "code",
   "execution_count": 16,
   "metadata": {
    "id": "4whrs9nq_OwQ"
   },
   "outputs": [],
   "source": [
    "import time"
   ]
  },
  {
   "cell_type": "code",
   "execution_count": 17,
   "metadata": {
    "id": "DTjaU2nO89pN"
   },
   "outputs": [],
   "source": [
    "#Chi2\n",
    "#   Code Here\n",
    "#Import Libraries\n",
    "from sklearn.feature_selection import SelectKBest\n",
    "from sklearn.feature_selection import chi2 , f_classif"
   ]
  },
  {
   "cell_type": "code",
   "execution_count": 18,
   "metadata": {
    "colab": {
     "base_uri": "https://localhost:8080/"
    },
    "id": "4UREKex7RZhX",
    "outputId": "1eebde40-8ebf-4765-b393-ff7df1e09d7a"
   },
   "outputs": [
    {
     "name": "stdout",
     "output_type": "stream",
     "text": [
      "Original X Shape is  (494020, 41)\n"
     ]
    }
   ],
   "source": [
    "print('Original X Shape is ' , X.shape)"
   ]
  },
  {
   "cell_type": "markdown",
   "metadata": {
    "id": "cAdH_ZcyAT7r"
   },
   "source": [
    "> __K = 2__ ----> (Change __K__ value)"
   ]
  },
  {
   "cell_type": "code",
   "execution_count": 19,
   "metadata": {
    "id": "U8Dixr2tHa2R"
   },
   "outputs": [],
   "source": [
    "FtChi2 = SelectKBest(score_func= chi2 ,k=2) # score_func can = f_classif \n",
    "#Xchi2 = FtChi2.fit_transform(X, y)\n",
    "\n",
    "#showing X Dimension \n",
    "#print('X Chi2 Shape is ' , Xchi2.shape)"
   ]
  },
  {
   "cell_type": "code",
   "execution_count": 20,
   "metadata": {
    "colab": {
     "base_uri": "https://localhost:8080/"
    },
    "id": "wq22Dv4eWePQ",
    "outputId": "8fe5e322-41f5-40d4-8983-4c1919cb1ea2"
   },
   "outputs": [
    {
     "name": "stdout",
     "output_type": "stream",
     "text": [
      "Index(['src_bytes', 'dst_bytes'], dtype='object')\n",
      "Time:  1.8795132637023926\n"
     ]
    }
   ],
   "source": [
    "#Start time\n",
    "start_time = time.time()\n",
    "\n",
    "XChi2Sel = FtChi2.fit(X, y)\n",
    "\n",
    "selected_featChi2= X.columns[(XChi2Sel.get_support())]\n",
    "print(selected_featChi2)\n",
    "\n",
    "#End Time\n",
    "end_time = time.time()\n",
    "print(\"Time: \", end_time-start_time)"
   ]
  },
  {
   "cell_type": "markdown",
   "metadata": {
    "id": "-PRiAMX5ChTG"
   },
   "source": [
    "> ```python \n",
    "Df[ ['src_bytes', 'dst_bytes'] ]#Chi2 Selection\n",
    "\n",
    "---\n",
    "\n",
    "\n",
    "\n"
   ]
  },
  {
   "cell_type": "markdown",
   "metadata": {
    "id": "iTF61gedKX7_"
   },
   "source": [
    "# __Data split__"
   ]
  },
  {
   "cell_type": "markdown",
   "metadata": {
    "id": "8meVy-rsSJus"
   },
   "source": [
    "<div>\n",
    "<h1>\n",
    "Avant de split, on a choisi les attributes séléctinones (CHi2 par <b>K</b>)\n",
    "</h1>\n",
    "\n",
    "</div>\n"
   ]
  },
  {
   "cell_type": "code",
   "execution_count": 21,
   "metadata": {
    "colab": {
     "base_uri": "https://localhost:8080/",
     "height": 206
    },
    "id": "BSVly_jxTYpP",
    "outputId": "6a03e2eb-6a1d-4259-d00e-662eac1d2147"
   },
   "outputs": [
    {
     "data": {
      "text/html": [
       "<div>\n",
       "<style scoped>\n",
       "    .dataframe tbody tr th:only-of-type {\n",
       "        vertical-align: middle;\n",
       "    }\n",
       "\n",
       "    .dataframe tbody tr th {\n",
       "        vertical-align: top;\n",
       "    }\n",
       "\n",
       "    .dataframe thead th {\n",
       "        text-align: right;\n",
       "    }\n",
       "</style>\n",
       "<table border=\"1\" class=\"dataframe\">\n",
       "  <thead>\n",
       "    <tr style=\"text-align: right;\">\n",
       "      <th></th>\n",
       "      <th>src_bytes</th>\n",
       "      <th>dst_bytes</th>\n",
       "      <th>label</th>\n",
       "    </tr>\n",
       "  </thead>\n",
       "  <tbody>\n",
       "    <tr>\n",
       "      <th>0</th>\n",
       "      <td>181</td>\n",
       "      <td>5450</td>\n",
       "      <td>NoIntrusion</td>\n",
       "    </tr>\n",
       "    <tr>\n",
       "      <th>1</th>\n",
       "      <td>239</td>\n",
       "      <td>486</td>\n",
       "      <td>NoIntrusion</td>\n",
       "    </tr>\n",
       "    <tr>\n",
       "      <th>2</th>\n",
       "      <td>235</td>\n",
       "      <td>1337</td>\n",
       "      <td>NoIntrusion</td>\n",
       "    </tr>\n",
       "    <tr>\n",
       "      <th>3</th>\n",
       "      <td>219</td>\n",
       "      <td>1337</td>\n",
       "      <td>NoIntrusion</td>\n",
       "    </tr>\n",
       "    <tr>\n",
       "      <th>4</th>\n",
       "      <td>217</td>\n",
       "      <td>2032</td>\n",
       "      <td>NoIntrusion</td>\n",
       "    </tr>\n",
       "  </tbody>\n",
       "</table>\n",
       "</div>"
      ],
      "text/plain": [
       "   src_bytes  dst_bytes        label\n",
       "0        181       5450  NoIntrusion\n",
       "1        239        486  NoIntrusion\n",
       "2        235       1337  NoIntrusion\n",
       "3        219       1337  NoIntrusion\n",
       "4        217       2032  NoIntrusion"
      ]
     },
     "execution_count": 21,
     "metadata": {},
     "output_type": "execute_result"
    }
   ],
   "source": [
    "#Data Split\n",
    "#   Code Here\n",
    "dfsp = DataFtr[ ['src_bytes', 'dst_bytes', 'label'] ]\n",
    "dfsp.head()"
   ]
  },
  {
   "cell_type": "code",
   "execution_count": 22,
   "metadata": {
    "colab": {
     "base_uri": "https://localhost:8080/"
    },
    "id": "yZ0D2ZcfFhR8",
    "outputId": "2699a32b-1f7f-44d5-ef89-3e4c414203b1"
   },
   "outputs": [
    {
     "name": "stderr",
     "output_type": "stream",
     "text": [
      "C:\\Users\\nsc\\AppData\\Local\\Temp/ipykernel_8744/844192966.py:3: SettingWithCopyWarning: \n",
      "A value is trying to be set on a copy of a slice from a DataFrame.\n",
      "Try using .loc[row_indexer,col_indexer] = value instead\n",
      "\n",
      "See the caveats in the documentation: https://pandas.pydata.org/pandas-docs/stable/user_guide/indexing.html#returning-a-view-versus-a-copy\n",
      "  dfsp['label'] = dfsp['label'].map(Lmap)\n"
     ]
    }
   ],
   "source": [
    "# Label feature mapping\n",
    "Lmap = {'NoIntrusion':0, 'Intrusion':1}\n",
    "dfsp['label'] = dfsp['label'].map(Lmap)"
   ]
  },
  {
   "cell_type": "code",
   "execution_count": 23,
   "metadata": {
    "id": "LvBTFLBoGGkK"
   },
   "outputs": [],
   "source": [
    "Xsp = dfsp[ ['src_bytes', 'dst_bytes'] ] # Hna nbadlou 3la hsab selection chi2\n",
    "ysp = dfsp[[\"label\"]]"
   ]
  },
  {
   "cell_type": "code",
   "execution_count": 24,
   "metadata": {
    "colab": {
     "base_uri": "https://localhost:8080/"
    },
    "id": "h-uIspJvGGha",
    "outputId": "e831e735-f4eb-49b3-a19b-7ee954ff93a3"
   },
   "outputs": [
    {
     "name": "stdout",
     "output_type": "stream",
     "text": [
      "X_train shape is  (345814, 2)\n",
      "X_test shape is  (148206, 2)\n",
      "y_train shape is  (345814, 1)\n",
      "y_test shape is  (148206, 1)\n"
     ]
    }
   ],
   "source": [
    "#Import Libraries\n",
    "from sklearn.model_selection import train_test_split\n",
    "#----------------------------------------------------\n",
    "\n",
    "#Splitting data\n",
    "\n",
    "X_train, X_test, y_train, y_test = train_test_split(Xsp, ysp, test_size=0.3, random_state=44, shuffle =True)\n",
    "\n",
    "#Splitted Data\n",
    "print('X_train shape is ' , X_train.shape)\n",
    "print('X_test shape is ' , X_test.shape)\n",
    "print('y_train shape is ' , y_train.shape)\n",
    "print('y_test shape is ' , y_test.shape)"
   ]
  },
  {
   "cell_type": "markdown",
   "metadata": {
    "id": "vGbf7nbi7IWL"
   },
   "source": [
    "# __ML Algorithms__"
   ]
  },
  {
   "cell_type": "markdown",
   "metadata": {
    "id": "JftiT-ezUL-d"
   },
   "source": [
    "<div>\n",
    "<h2>\n",
    "<b>NB:</b> Avec accuracy, precsion, recall,.., ROC\n",
    "</h2>\n",
    "</div>"
   ]
  },
  {
   "cell_type": "markdown",
   "metadata": {
    "id": "8Flw0piJ8GaA"
   },
   "source": [
    "## __• Supervised learnin__"
   ]
  },
  {
   "cell_type": "markdown",
   "metadata": {
    "id": "8woCkhO77ITj"
   },
   "source": [
    "### __1 - Naives Bayes__"
   ]
  },
  {
   "cell_type": "code",
   "execution_count": 25,
   "metadata": {
    "colab": {
     "base_uri": "https://localhost:8080/"
    },
    "id": "1Zt-2Ij99XVk",
    "outputId": "5ab87aa0-d1d2-4159-d481-3c3b1a7c4ae7"
   },
   "outputs": [
    {
     "name": "stderr",
     "output_type": "stream",
     "text": [
      "C:\\Users\\nsc\\anaconda3\\lib\\site-packages\\sklearn\\utils\\validation.py:63: DataConversionWarning: A column-vector y was passed when a 1d array was expected. Please change the shape of y to (n_samples, ), for example using ravel().\n",
      "  return f(*args, **kwargs)\n"
     ]
    },
    {
     "name": "stdout",
     "output_type": "stream",
     "text": [
      "------------------------------------------\n",
      "             Intrusion  NoIntrusion\n",
      "Intrusion           17       119072\n",
      "NoIntrusion         22        29095\n",
      "------------------------------------------\n",
      "Accuracy =  0.1964292943605522  %\n",
      "------------------------------------------\n",
      "Precision =  0.00014275037996792315  %\n",
      "------------------------------------------\n",
      "Recall =  0.4358974358974359  %\n",
      "------------------------------------------\n",
      "F1 score =  0.0002854072929957693  %\n",
      "------------------------------------------\n",
      "Time:  1.873685598373413\n"
     ]
    }
   ],
   "source": [
    "start_time = time.time()\n",
    "\n",
    "# Naive Baye\n",
    "#   Code Here\n",
    "#Naive Bayes Classifier\n",
    "from sklearn import metrics\n",
    "from sklearn import tree\n",
    "from sklearn.naive_bayes import GaussianNB\n",
    "\n",
    "from sklearn.metrics import accuracy_score # For accuracy\n",
    "from sklearn.metrics import precision_score # Precision\n",
    "from sklearn.metrics import recall_score # Recall\n",
    "from sklearn.metrics import f1_score # F1 F-mesure\n",
    "\n",
    "\n",
    "from sklearn.metrics import classification_report\n",
    "from sklearn.metrics import confusion_matrix\n",
    "from sklearn.metrics import mean_squared_error\n",
    "\n",
    "NB = GaussianNB()\n",
    "NB.fit(X_train, y_train)\n",
    "predictionNB = NB.predict(X_test)\n",
    "\n",
    "#matrix best display\n",
    "print(\"------------------------------------------\")\n",
    "cmtx = pd.DataFrame(\n",
    "    confusion_matrix(y_test, predictionNB, labels=[1,0]), \n",
    "    index=['Intrusion', 'NoIntrusion'], \n",
    "    columns=['Intrusion', 'NoIntrusion']\n",
    ")\n",
    "print(cmtx)\n",
    "\n",
    "## matrix \n",
    "\"\"\" print(\"------------------------------------------\")\n",
    "    matrix = confusion_matrix(y_test, predictionNB)\n",
    "    print(matrix)\n",
    "\"\"\"\n",
    "\n",
    "# Accuracy = TP + TN / P + N\n",
    "accNB=accuracy_score(predictionNB, y_test)\n",
    "print(\"------------------------------------------\")\n",
    "print(\"Accuracy = \",accNB,\" %\")\n",
    "\n",
    "#precision = TP / TP + FP\n",
    "precisionNB = precision_score(predictionNB, y_test)\n",
    "print(\"------------------------------------------\")\n",
    "print('Precision = ' ,precisionNB,\" %\")\n",
    "\n",
    "#Recall = TP / TP + FN\n",
    "recallNB= recall_score(predictionNB, y_test)\n",
    "print(\"------------------------------------------\")\n",
    "print('Recall = ' ,recallNB,\" %\")\n",
    "\n",
    "# f1= ( 2*Precision * Recall) / precision + recall\n",
    "f1NB = f1_score(predictionNB, y_test)\n",
    "print(\"------------------------------------------\")\n",
    "print('F1 score = ',f1NB, \" %\")\n",
    "print(\"------------------------------------------\")\n",
    "\n",
    "#report = classification_report(y_train, prediction)\n",
    "#print(report)\n",
    "\n",
    "#End Time\n",
    "end_time = time.time()\n",
    "print(\"Time: \", end_time-start_time)"
   ]
  },
  {
   "cell_type": "markdown",
   "metadata": {
    "id": "LQ6vpqJCfY7k"
   },
   "source": [
    "> <h2> <b>Entropy NB :</b> </h2>"
   ]
  },
  {
   "cell_type": "code",
   "execution_count": 26,
   "metadata": {
    "colab": {
     "base_uri": "https://localhost:8080/"
    },
    "id": "7TZa-S7f7cQe",
    "outputId": "ca6547fe-9dc6-4c15-fbb1-2863202c6695"
   },
   "outputs": [
    {
     "name": "stdout",
     "output_type": "stream",
     "text": [
      "Entropy is: 0.001263970826946388\n"
     ]
    }
   ],
   "source": [
    "#Entropy NB\n",
    "from math import log\n",
    "\n",
    "print(\"Entropy is: \"+ str(-precisionNB*log(precisionNB)))"
   ]
  },
  {
   "cell_type": "code",
   "execution_count": 27,
   "metadata": {
    "id": "5oQ-XSum7GrP"
   },
   "outputs": [],
   "source": [
    "from sklearn.metrics import roc_auc_score\n",
    "from sklearn.metrics import roc_curve, auc"
   ]
  },
  {
   "cell_type": "code",
   "execution_count": 28,
   "metadata": {
    "colab": {
     "base_uri": "https://localhost:8080/",
     "height": 312
    },
    "id": "4f1CGc-p7GZw",
    "outputId": "44dec3ff-4784-4a52-d638-3fbc7e891d93"
   },
   "outputs": [
    {
     "name": "stderr",
     "output_type": "stream",
     "text": [
      "No handles with labels found to put in legend.\n"
     ]
    },
    {
     "data": {
      "image/png": "[encoded data removed]",
      "text/plain": [
       "<Figure size 432x288 with 1 Axes>"
      ]
     },
     "metadata": {
      "needs_background": "light"
     },
     "output_type": "display_data"
    }
   ],
   "source": [
    "#define metrics\n",
    "#define metrics\n",
    "import matplotlib.pyplot as plt\n",
    "\n",
    "fprNB, tprNB, _ = metrics.roc_curve(y_test, predictionNB)\n",
    "aucNB = auc(fprNB, tprNB)\n",
    "\n",
    "plt.plot([0, 1], [0, 1], 'k--')\n",
    "plt.plot(fprNB, tprNB)\n",
    "plt.xlabel('False positive rate')\n",
    "plt.ylabel('True positive rate')\n",
    "plt.title('ROC curve')\n",
    "plt.legend(loc='best')\n",
    "plt.savefig('NB2Chi2_binary_roc.png')\n",
    "plt.show()"
   ]
  },
  {
   "cell_type": "code",
   "execution_count": 29,
   "metadata": {
    "colab": {
     "base_uri": "https://localhost:8080/"
    },
    "id": "Nwoe1C7EPSwQ",
    "outputId": "fed5de28-0f2d-4c92-c2d2-bba0560a6b1b"
   },
   "outputs": [
    {
     "data": {
      "text/plain": [
       "array([0.0000000e+00, 1.4275038e-04, 1.0000000e+00])"
      ]
     },
     "execution_count": 29,
     "metadata": {},
     "output_type": "execute_result"
    }
   ],
   "source": [
    "tprNB"
   ]
  },
  {
   "cell_type": "code",
   "execution_count": 30,
   "metadata": {
    "colab": {
     "base_uri": "https://localhost:8080/"
    },
    "id": "UKV4m1kYPSqh",
    "outputId": "607755bc-ae8b-4a1f-cbec-f2d4e7c016d5"
   },
   "outputs": [
    {
     "data": {
      "text/plain": [
       "array([0.00000000e+00, 7.55572346e-04, 1.00000000e+00])"
      ]
     },
     "execution_count": 30,
     "metadata": {},
     "output_type": "execute_result"
    }
   ],
   "source": [
    "fprNB"
   ]
  },
  {
   "cell_type": "markdown",
   "metadata": {
    "id": "OjOzYWUg7IQz"
   },
   "source": [
    "### __2 - KNN - KPPV__"
   ]
  },
  {
   "cell_type": "code",
   "execution_count": 34,
   "metadata": {
    "colab": {
     "base_uri": "https://localhost:8080/"
    },
    "id": "cOYY0VP99aHW",
    "outputId": "898da80b-b996-48ea-e771-5e84e59f5999"
   },
   "outputs": [
    {
     "name": "stderr",
     "output_type": "stream",
     "text": [
      "C:\\Users\\nsc\\anaconda3\\lib\\site-packages\\sklearn\\neighbors\\_classification.py:179: DataConversionWarning: A column-vector y was passed when a 1d array was expected. Please change the shape of y to (n_samples,), for example using ravel().\n",
      "  return self._fit(X, y)\n"
     ]
    },
    {
     "name": "stdout",
     "output_type": "stream",
     "text": [
      "------------------------------------------\n",
      "             Intrusion  NoIntrusion\n",
      "Intrusion       119058           31\n",
      "NoIntrusion       1591        27526\n",
      "------------------------------------------\n",
      "Accuracy =  0.9890557737203622  %\n",
      "------------------------------------------\n",
      "Precision =  0.9997396904835879  %\n",
      "------------------------------------------\n",
      "Recall =  0.9868129864317151  %\n",
      "------------------------------------------\n",
      "F1 score =  0.9932342807564926  %\n",
      "------------------------------------------\n",
      "Time:  283.4906165599823\n"
     ]
    }
   ],
   "source": [
    "start_time = time.time()\n",
    "\n",
    "# KNN - KPPV\n",
    "#   Code Here\n",
    "#Import Libraries\n",
    "from sklearn.neighbors import KNeighborsClassifier\n",
    "#----------------------------------------------------\n",
    "\n",
    "#Applying KNeighborsClassifier Model \n",
    "\n",
    "'''\n",
    "#sklearn.neighbors.KNeighborsClassifier(n_neighbors=5, weights='uniform’, algorithm=’auto’, leaf_size=30,\n",
    "#                                       p=2, metric='minkowski’, metric_params=None,n_jobs=None)\n",
    "'''\n",
    "\n",
    "KNN = KNeighborsClassifier(n_neighbors= 3) # it can be ball_tree, kd_tree,brute\n",
    "KNN.fit(X_train, y_train)\n",
    "\n",
    "predictionKNN = KNN.predict(X_test)\n",
    "\n",
    "#matrix best display\n",
    "print(\"------------------------------------------\")\n",
    "cmtx = pd.DataFrame(\n",
    "    confusion_matrix(y_test, predictionKNN, labels=[1,0]), \n",
    "    index=['Intrusion', 'NoIntrusion'], \n",
    "    columns=['Intrusion', 'NoIntrusion']\n",
    ")\n",
    "print(cmtx)\n",
    "\n",
    "## matrix \n",
    "    #print(\"------------------------------------------\")\n",
    "    #matrix = confusion_matrix(y_train, prediction)\n",
    "    #print(matrix)\n",
    "\n",
    "# Accuracy\n",
    "accKNN=accuracy_score(predictionKNN, y_test)\n",
    "print(\"------------------------------------------\")\n",
    "print(\"Accuracy = \",accKNN,\" %\")\n",
    "\n",
    "#precision\n",
    "precisionKNN = precision_score(predictionKNN, y_test)\n",
    "print(\"------------------------------------------\")\n",
    "print('Precision = ' ,precisionKNN,\" %\")\n",
    "\n",
    "#Recall\n",
    "recallKNN= recall_score(predictionKNN, y_test)\n",
    "print(\"------------------------------------------\")\n",
    "print('Recall = ' ,recallKNN,\" %\")\n",
    "\n",
    "# f1: 2 tp / (2 tp + fp + fn)\n",
    "f1KNN = f1_score(predictionKNN, y_test)\n",
    "print(\"------------------------------------------\")\n",
    "print('F1 score = ',f1KNN, \" %\")\n",
    "print(\"------------------------------------------\")\n",
    "\n",
    "#report = classification_report(y_train, prediction)\n",
    "#print(report)\n",
    "\n",
    "#End Time\n",
    "end_time = time.time()\n",
    "print(\"Time: \", end_time-start_time)"
   ]
  },
  {
   "cell_type": "markdown",
   "metadata": {
    "id": "WdTK1-Qbgi2v"
   },
   "source": [
    "> <h2> <b>Entropy KNN </b> </2>"
   ]
  },
  {
   "cell_type": "code",
   "execution_count": 35,
   "metadata": {
    "colab": {
     "base_uri": "https://localhost:8080/"
    },
    "id": "bMBbpc9mgpU_",
    "outputId": "709b8a94-fe4c-411a-91f7-461460666c4d"
   },
   "outputs": [
    {
     "name": "stdout",
     "output_type": "stream",
     "text": [
      "Entropy KNN of is: 0.0002602756329497364\n"
     ]
    }
   ],
   "source": [
    "#Entropy KNN\n",
    "from math import log\n",
    "\n",
    "print(\"Entropy KNN of is: \" + str(-precisionKNN*log(precisionKNN)))"
   ]
  },
  {
   "cell_type": "code",
   "execution_count": 88,
   "metadata": {
    "colab": {
     "base_uri": "https://localhost:8080/",
     "height": 312
    },
    "id": "WTrq6R2rhKbt",
    "outputId": "59dde360-c143-4003-b5db-fdf9cc546fea"
   },
   "outputs": [
    {
     "name": "stderr",
     "output_type": "stream",
     "text": [
      "No handles with labels found to put in legend.\n"
     ]
    },
    {
     "data": {
      "image/png": "[encoded data removed]",
      "text/plain": [
       "<Figure size 432x288 with 1 Axes>"
      ]
     },
     "metadata": {
      "needs_background": "light"
     },
     "output_type": "display_data"
    }
   ],
   "source": [
    "#define metrics\n",
    "#define metrics\n",
    "import matplotlib.pyplot as plt\n",
    "\n",
    "fprKNN, tprKNN, _ = metrics.roc_curve(y_test, predictionKNN)\n",
    "aucKNN = auc(fprNB, tprKNN)\n",
    "\n",
    "plt.plot([0, 1], [0, 1], 'k--')\n",
    "plt.plot(fprKNN, tprKNN)\n",
    "plt.xlabel('False positive rate')\n",
    "plt.ylabel('True positive rate')\n",
    "plt.title('ROC curve')\n",
    "plt.legend(loc='best')\n",
    "plt.savefig('/content/drive/MyDrive/Multiply 2/KNN2_binary_roc.png')\n",
    "plt.show()"
   ]
  },
  {
   "cell_type": "code",
   "execution_count": 89,
   "metadata": {
    "colab": {
     "base_uri": "https://localhost:8080/"
    },
    "id": "Z39Pxg2yhaAt",
    "outputId": "74c4d838-cf0a-4e01-f752-ccf242eb1e57"
   },
   "outputs": [
    {
     "data": {
      "text/plain": [
       "array([0.        , 0.99973969, 1.        ])"
      ]
     },
     "execution_count": 89,
     "metadata": {},
     "output_type": "execute_result"
    }
   ],
   "source": [
    "tprKNN"
   ]
  },
  {
   "cell_type": "code",
   "execution_count": 90,
   "metadata": {
    "colab": {
     "base_uri": "https://localhost:8080/"
    },
    "id": "l5ZhcAhchZ5N",
    "outputId": "64ee5cea-20dc-473f-c5bf-8dccad7d1f51"
   },
   "outputs": [
    {
     "data": {
      "text/plain": [
       "array([0.        , 0.05457293, 1.        ])"
      ]
     },
     "execution_count": 90,
     "metadata": {},
     "output_type": "execute_result"
    }
   ],
   "source": [
    "fprKNN"
   ]
  },
  {
   "cell_type": "markdown",
   "metadata": {
    "id": "FVAvOHan7yWx"
   },
   "source": [
    "### __3 - ID3 - Decision Tree(Arbre de Décisiuon)__"
   ]
  },
  {
   "cell_type": "code",
   "execution_count": 42,
   "metadata": {
    "colab": {
     "base_uri": "https://localhost:8080/"
    },
    "id": "JbpcNxe7RTvl",
    "outputId": "a54bcadd-7946-461b-b0ee-a3130b9db96f"
   },
   "outputs": [
    {
     "name": "stdout",
     "output_type": "stream",
     "text": [
      "------------------------------------------\n",
      "           Intrusion  Intrusion\n",
      "Intrusion     118994         95\n",
      "Intrusion       2019      27098\n",
      "------------------------------------------\n",
      "Accuracy =  0.9857360700646398  %\n",
      "------------------------------------------\n",
      "Precision =  0.9992022772884146  %\n",
      "------------------------------------------\n",
      "Recall =  0.9833158420996091  %\n",
      "------------------------------------------\n",
      "F1 score =  0.991195408618004  %\n",
      "------------------------------------------\n",
      "Time:  1.4303364753723145\n"
     ]
    }
   ],
   "source": [
    "start_time = time.time()\n",
    "# DT \n",
    "#   Code Here\n",
    "\n",
    "#Decision TreeClassifier\n",
    "from sklearn.metrics import confusion_matrix\n",
    "from sklearn import tree\n",
    "\n",
    "\n",
    "DT = tree.DecisionTreeClassifier(criterion=\"entropy\", max_depth=4)\n",
    "DT.fit(X_train, y_train)\n",
    "predictionDT = DT.predict(X_test)\n",
    "\n",
    "#matrix best display\n",
    "print(\"------------------------------------------\")\n",
    "cmtx = pd.DataFrame(\n",
    "    confusion_matrix(y_test, predictionDT, labels=[1,0]), \n",
    "    index=['Intrusion', 'Intrusion'], \n",
    "    columns=['Intrusion', 'Intrusion']\n",
    ")\n",
    "print(cmtx)\n",
    "\n",
    "## matrix \n",
    "    #print(\"------------------------------------------\")\n",
    "    #matrix = confusion_matrix(y_train, prediction)\n",
    "    #print(matrix)\n",
    "\n",
    "# Accuracy\n",
    "accDT=accuracy_score(predictionDT, y_test)\n",
    "print(\"------------------------------------------\")\n",
    "print(\"Accuracy = \",accDT,\" %\")\n",
    "\n",
    "#precision\n",
    "precisionDT = precision_score(predictionDT, y_test)\n",
    "print(\"------------------------------------------\")\n",
    "print('Precision = ' ,precisionDT,\" %\")\n",
    "\n",
    "#Recall\n",
    "recallDT= recall_score(predictionDT, y_test)\n",
    "print(\"------------------------------------------\")\n",
    "print('Recall = ' ,recallDT,\" %\")\n",
    "\n",
    "# f1: 2 tp / (2 tp + fp + fn)\n",
    "f1DT = f1_score(predictionDT, y_test)\n",
    "print(\"------------------------------------------\")\n",
    "print('F1 score = ',f1DT, \" %\")\n",
    "print(\"------------------------------------------\")\n",
    "\n",
    "#report = classification_report(y_train, prediction)\n",
    "#print(report)\n",
    "\n",
    "#End Time\n",
    "end_time = time.time()\n",
    "print(\"Time: \", end_time-start_time)"
   ]
  },
  {
   "cell_type": "markdown",
   "metadata": {
    "id": "3S0znVjmhmoE"
   },
   "source": [
    "> <h2> <b>Entropy DT </b> </2>"
   ]
  },
  {
   "cell_type": "code",
   "execution_count": 43,
   "metadata": {
    "colab": {
     "base_uri": "https://localhost:8080/"
    },
    "id": "xxJNfhZihmSn",
    "outputId": "bcabbb1f-4876-4683-9fb6-06942a2664f2"
   },
   "outputs": [
    {
     "name": "stdout",
     "output_type": "stream",
     "text": [
      "Entropy DT of is: 0.0007974044461826769\n"
     ]
    }
   ],
   "source": [
    "#Entropy KNN\n",
    "from math import log\n",
    "\n",
    "print(\"Entropy DT of is: \" + str(-precisionDT*log(precisionDT)))"
   ]
  },
  {
   "cell_type": "code",
   "execution_count": 93,
   "metadata": {
    "colab": {
     "base_uri": "https://localhost:8080/",
     "height": 312
    },
    "id": "CjM0-2Fkhz5s",
    "outputId": "06234f59-6556-4aef-d1c7-fb236ce5c30c"
   },
   "outputs": [
    {
     "name": "stderr",
     "output_type": "stream",
     "text": [
      "No handles with labels found to put in legend.\n"
     ]
    },
    {
     "data": {
      "image/png": "[encoded data removed]",
      "text/plain": [
       "<Figure size 432x288 with 1 Axes>"
      ]
     },
     "metadata": {
      "needs_background": "light"
     },
     "output_type": "display_data"
    }
   ],
   "source": [
    "#define metrics\n",
    "#define metrics\n",
    "import matplotlib.pyplot as plt\n",
    "\n",
    "fprDT, tprDT, _ = metrics.roc_curve(y_test, predictionDT)\n",
    "aucDT = auc(fprDT, tprDT)\n",
    "\n",
    "plt.plot([0, 1], [0, 1], 'k--')\n",
    "plt.plot(fprDT, tprDT)\n",
    "plt.xlabel('False positive rate')\n",
    "plt.ylabel('True positive rate')\n",
    "plt.title('ROC curve')\n",
    "plt.legend(loc='best')\n",
    "plt.savefig('/content/drive/MyDrive/Multiply 2/DT2_binary_roc.png')\n",
    "plt.show()"
   ]
  },
  {
   "cell_type": "code",
   "execution_count": 94,
   "metadata": {
    "colab": {
     "base_uri": "https://localhost:8080/"
    },
    "id": "CjZStXGeh91c",
    "outputId": "e5acc31d-d139-43c3-8242-7caeb3a6742a"
   },
   "outputs": [
    {
     "data": {
      "text/plain": [
       "array([0.        , 0.99920228, 1.        ])"
      ]
     },
     "execution_count": 94,
     "metadata": {},
     "output_type": "execute_result"
    }
   ],
   "source": [
    "tprDT"
   ]
  },
  {
   "cell_type": "code",
   "execution_count": 95,
   "metadata": {
    "colab": {
     "base_uri": "https://localhost:8080/"
    },
    "id": "j8N06WZAiBlI",
    "outputId": "f2f6689a-f188-4d4d-833c-fa9d0d0ba215"
   },
   "outputs": [
    {
     "data": {
      "text/plain": [
       "array([0.        , 0.06934093, 1.        ])"
      ]
     },
     "execution_count": 95,
     "metadata": {},
     "output_type": "execute_result"
    }
   ],
   "source": [
    "fprDT"
   ]
  },
  {
   "cell_type": "markdown",
   "metadata": {
    "id": "y1jkjrYj8TPo"
   },
   "source": [
    "## __• Unsupervised learning__"
   ]
  },
  {
   "cell_type": "markdown",
   "metadata": {
    "id": "X_-zzf0z7yT5"
   },
   "source": [
    "### __1 - K-means__"
   ]
  },
  {
   "cell_type": "code",
   "execution_count": 96,
   "metadata": {
    "id": "pHeGhBm_9gYE"
   },
   "outputs": [],
   "source": [
    "# K-means\n",
    "#   Code Here\n",
    "#Import Libraries\n",
    "from sklearn.cluster import KMeans"
   ]
  },
  {
   "cell_type": "code",
   "execution_count": 97,
   "metadata": {
    "colab": {
     "base_uri": "https://localhost:8080/"
    },
    "id": "YYJmRi-y6aaw",
    "outputId": "3e29504a-47ac-4876-bd12-f02fb1ef8cff"
   },
   "outputs": [
    {
     "name": "stdout",
     "output_type": "stream",
     "text": [
      "------------------------------------------\n",
      "             Intrusion  NoIntrusion\n",
      "Intrusion            0       119068\n",
      "NoIntrusion          0        29110\n",
      "------------------------------------------\n",
      "Accuracy =  0.1964157996302444  %\n",
      "------------------------------------------\n",
      "Precision =  0.1964157996302444  %\n",
      "------------------------------------------\n",
      "Recall =  0.1964157996302444  %\n",
      "------------------------------------------\n",
      "F1 score =  0.19641579963024436  %\n",
      "------------------------------------------\n",
      "Time:  1.309974193572998\n"
     ]
    }
   ],
   "source": [
    "start_time = time.time() # time\n",
    "\n",
    "KMns = KMeans(n_clusters=5,init='k-means++', #also can be random\n",
    "                     random_state=33,algorithm= 'auto'\n",
    ")\n",
    "KMns.fit(X_train, y_train)\n",
    "\n",
    "predictionKMns = KMns.predict(X_test)\n",
    "\n",
    "\n",
    "#matrix best display\n",
    "print(\"------------------------------------------\")\n",
    "cmtx = pd.DataFrame(\n",
    "    confusion_matrix(y_test, predictionKMns, labels=[1,0]), \n",
    "    index=['Intrusion', 'NoIntrusion'], \n",
    "    columns=['Intrusion', 'NoIntrusion']\n",
    ")\n",
    "print(cmtx)\n",
    "\n",
    "## matrix \n",
    "    #print(\"------------------------------------------\")\n",
    "    #matrix = confusion_matrix(y_train, prediction)\n",
    "    #print(matrix)\n",
    "\n",
    "# Accuracy\n",
    "accKMns=accuracy_score(predictionKMns, y_test)\n",
    "print(\"------------------------------------------\")\n",
    "print(\"Accuracy = \",accKMns,\" %\")\n",
    "\n",
    "#precision\n",
    "precisionKMns = precision_score(predictionKMns, y_test, average='micro')\n",
    "print(\"------------------------------------------\")\n",
    "print('Precision = ' ,precisionKMns,\" %\")\n",
    "\n",
    "#Recall\n",
    "recallKMns= recall_score(predictionKMns, y_test, average='micro')\n",
    "print(\"------------------------------------------\")\n",
    "print('Recall = ' ,recallKMns,\" %\")\n",
    "\n",
    "# f1: 2 tp / (2 tp + fp + fn)\n",
    "f1KMns = f1_score(predictionKMns, y_test, average='micro')\n",
    "print(\"------------------------------------------\")\n",
    "print('F1 score = ',f1KMns, \" %\")\n",
    "print(\"------------------------------------------\")\n",
    "\n",
    "#report = classification_report(y_train, prediction)\n",
    "#print(report)\n",
    "\n",
    "#End Time\n",
    "end_time = time.time()\n",
    "print(\"Time: \", end_time-start_time)"
   ]
  },
  {
   "cell_type": "markdown",
   "metadata": {
    "id": "Mm05dWKIix-e"
   },
   "source": [
    "> <h2> <b>Entropy K-means </b> </2>"
   ]
  },
  {
   "cell_type": "code",
   "execution_count": 98,
   "metadata": {
    "colab": {
     "base_uri": "https://localhost:8080/"
    },
    "id": "cyNAB373ixbZ",
    "outputId": "9e4d01ea-728c-4b01-90c6-1058507ffba9"
   },
   "outputs": [
    {
     "name": "stdout",
     "output_type": "stream",
     "text": [
      "Entropy K-means of is: 0.3196709250755321\n"
     ]
    }
   ],
   "source": [
    "#Entropy KNN\n",
    "from math import log\n",
    "\n",
    "print(\"Entropy K-means of is: \" + str(-precisionKMns*log(precisionKMns)))"
   ]
  }
 ],
 "metadata": {
  "colab": {
   "collapsed_sections": [],
   "name": "Chi2-Multiply.ipynb",
   "provenance": [],
   "toc_visible": true
  },
  "kernelspec": {
   "display_name": "Python 3 (ipykernel)",
   "language": "python",
   "name": "python3"
  },
  "language_info": {
   "codemirror_mode": {
    "name": "ipython",
    "version": 3
   },
   "file_extension": ".py",
   "mimetype": "text/x-python",
   "name": "python",
   "nbconvert_exporter": "python",
   "pygments_lexer": "ipython3",
   "version": "3.9.7"
  }
 },
 "nbformat": 4,
 "nbformat_minor": 1
}
