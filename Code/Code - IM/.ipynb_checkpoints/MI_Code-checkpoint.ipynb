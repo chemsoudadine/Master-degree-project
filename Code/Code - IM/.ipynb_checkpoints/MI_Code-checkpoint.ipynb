{
 "cells": [
  {
   "cell_type": "markdown",
   "metadata": {
    "id": "KG-DniNj6yF9"
   },
   "source": [
    "# __Data Preparation - Préparation des données__\n"
   ]
  },
  {
   "cell_type": "markdown",
   "metadata": {
    "id": "7INS273c7IhD"
   },
   "source": [
    "## __1 - Data File__ "
   ]
  },
  {
   "cell_type": "code",
   "execution_count": null,
   "metadata": {
    "colab": {
     "base_uri": "https://localhost:8080/"
    },
    "id": "GrmDECoR9GdV",
    "outputId": "c80748aa-55af-4dfb-8994-0189e81897bd",
    "scrolled": true
   },
   "outputs": [
    {
     "name": "stdout",
     "output_type": "stream",
     "text": [
      "Mounted at /content/drive/\n"
     ]
    }
   ],
   "source": [
    "#Data files ...Importer datasets\n",
    "#   Code Here\n",
    "#from google.colab import drive\n",
    "#drive.mount('/content/drive/')"
   ]
  },
  {
   "cell_type": "code",
   "execution_count": 1,
   "metadata": {
    "colab": {
     "base_uri": "https://localhost:8080/",
     "height": 300
    },
    "id": "hxF8AU3Y-HFq",
    "outputId": "1f468a93-1316-4a55-f463-2d67687b31a2"
   },
   "outputs": [
    {
     "data": {
      "text/html": [
       "<div>\n",
       "<style scoped>\n",
       "    .dataframe tbody tr th:only-of-type {\n",
       "        vertical-align: middle;\n",
       "    }\n",
       "\n",
       "    .dataframe tbody tr th {\n",
       "        vertical-align: top;\n",
       "    }\n",
       "\n",
       "    .dataframe thead th {\n",
       "        text-align: right;\n",
       "    }\n",
       "</style>\n",
       "<table border=\"1\" class=\"dataframe\">\n",
       "  <thead>\n",
       "    <tr style=\"text-align: right;\">\n",
       "      <th></th>\n",
       "      <th>duration</th>\n",
       "      <th>protocol_type</th>\n",
       "      <th>service</th>\n",
       "      <th>flag</th>\n",
       "      <th>src_bytes</th>\n",
       "      <th>dst_bytes</th>\n",
       "      <th>land</th>\n",
       "      <th>wrong_fragment</th>\n",
       "      <th>urgent</th>\n",
       "      <th>hot</th>\n",
       "      <th>...</th>\n",
       "      <th>dst_host_srv_count</th>\n",
       "      <th>dst_host_same_srv_rate</th>\n",
       "      <th>dst_host_diff_srv_rate</th>\n",
       "      <th>dst_host_same_src_port_rate</th>\n",
       "      <th>dst_host_srv_diff_host_rate</th>\n",
       "      <th>dst_host_serror_rate</th>\n",
       "      <th>dst_host_srv_serror_rate</th>\n",
       "      <th>dst_host_rerror_rate</th>\n",
       "      <th>dst_host_srv_rerror_rate</th>\n",
       "      <th>label</th>\n",
       "    </tr>\n",
       "  </thead>\n",
       "  <tbody>\n",
       "    <tr>\n",
       "      <th>0</th>\n",
       "      <td>0</td>\n",
       "      <td>tcp</td>\n",
       "      <td>http</td>\n",
       "      <td>SF</td>\n",
       "      <td>181</td>\n",
       "      <td>5450</td>\n",
       "      <td>0</td>\n",
       "      <td>0</td>\n",
       "      <td>0</td>\n",
       "      <td>0</td>\n",
       "      <td>...</td>\n",
       "      <td>9</td>\n",
       "      <td>1.0</td>\n",
       "      <td>0.0</td>\n",
       "      <td>0.11</td>\n",
       "      <td>0.0</td>\n",
       "      <td>0.0</td>\n",
       "      <td>0.0</td>\n",
       "      <td>0.0</td>\n",
       "      <td>0.0</td>\n",
       "      <td>NoIntrusion</td>\n",
       "    </tr>\n",
       "    <tr>\n",
       "      <th>1</th>\n",
       "      <td>0</td>\n",
       "      <td>tcp</td>\n",
       "      <td>http</td>\n",
       "      <td>SF</td>\n",
       "      <td>239</td>\n",
       "      <td>486</td>\n",
       "      <td>0</td>\n",
       "      <td>0</td>\n",
       "      <td>0</td>\n",
       "      <td>0</td>\n",
       "      <td>...</td>\n",
       "      <td>19</td>\n",
       "      <td>1.0</td>\n",
       "      <td>0.0</td>\n",
       "      <td>0.05</td>\n",
       "      <td>0.0</td>\n",
       "      <td>0.0</td>\n",
       "      <td>0.0</td>\n",
       "      <td>0.0</td>\n",
       "      <td>0.0</td>\n",
       "      <td>NoIntrusion</td>\n",
       "    </tr>\n",
       "    <tr>\n",
       "      <th>2</th>\n",
       "      <td>0</td>\n",
       "      <td>tcp</td>\n",
       "      <td>http</td>\n",
       "      <td>SF</td>\n",
       "      <td>235</td>\n",
       "      <td>1337</td>\n",
       "      <td>0</td>\n",
       "      <td>0</td>\n",
       "      <td>0</td>\n",
       "      <td>0</td>\n",
       "      <td>...</td>\n",
       "      <td>29</td>\n",
       "      <td>1.0</td>\n",
       "      <td>0.0</td>\n",
       "      <td>0.03</td>\n",
       "      <td>0.0</td>\n",
       "      <td>0.0</td>\n",
       "      <td>0.0</td>\n",
       "      <td>0.0</td>\n",
       "      <td>0.0</td>\n",
       "      <td>NoIntrusion</td>\n",
       "    </tr>\n",
       "    <tr>\n",
       "      <th>3</th>\n",
       "      <td>0</td>\n",
       "      <td>tcp</td>\n",
       "      <td>http</td>\n",
       "      <td>SF</td>\n",
       "      <td>219</td>\n",
       "      <td>1337</td>\n",
       "      <td>0</td>\n",
       "      <td>0</td>\n",
       "      <td>0</td>\n",
       "      <td>0</td>\n",
       "      <td>...</td>\n",
       "      <td>39</td>\n",
       "      <td>1.0</td>\n",
       "      <td>0.0</td>\n",
       "      <td>0.03</td>\n",
       "      <td>0.0</td>\n",
       "      <td>0.0</td>\n",
       "      <td>0.0</td>\n",
       "      <td>0.0</td>\n",
       "      <td>0.0</td>\n",
       "      <td>NoIntrusion</td>\n",
       "    </tr>\n",
       "    <tr>\n",
       "      <th>4</th>\n",
       "      <td>0</td>\n",
       "      <td>tcp</td>\n",
       "      <td>http</td>\n",
       "      <td>SF</td>\n",
       "      <td>217</td>\n",
       "      <td>2032</td>\n",
       "      <td>0</td>\n",
       "      <td>0</td>\n",
       "      <td>0</td>\n",
       "      <td>0</td>\n",
       "      <td>...</td>\n",
       "      <td>49</td>\n",
       "      <td>1.0</td>\n",
       "      <td>0.0</td>\n",
       "      <td>0.02</td>\n",
       "      <td>0.0</td>\n",
       "      <td>0.0</td>\n",
       "      <td>0.0</td>\n",
       "      <td>0.0</td>\n",
       "      <td>0.0</td>\n",
       "      <td>NoIntrusion</td>\n",
       "    </tr>\n",
       "  </tbody>\n",
       "</table>\n",
       "<p>5 rows × 42 columns</p>\n",
       "</div>"
      ],
      "text/plain": [
       "   duration protocol_type service flag  src_bytes  dst_bytes  land  \\\n",
       "0         0           tcp    http   SF        181       5450     0   \n",
       "1         0           tcp    http   SF        239        486     0   \n",
       "2         0           tcp    http   SF        235       1337     0   \n",
       "3         0           tcp    http   SF        219       1337     0   \n",
       "4         0           tcp    http   SF        217       2032     0   \n",
       "\n",
       "   wrong_fragment  urgent  hot  ...  dst_host_srv_count  \\\n",
       "0               0       0    0  ...                   9   \n",
       "1               0       0    0  ...                  19   \n",
       "2               0       0    0  ...                  29   \n",
       "3               0       0    0  ...                  39   \n",
       "4               0       0    0  ...                  49   \n",
       "\n",
       "   dst_host_same_srv_rate  dst_host_diff_srv_rate  \\\n",
       "0                     1.0                     0.0   \n",
       "1                     1.0                     0.0   \n",
       "2                     1.0                     0.0   \n",
       "3                     1.0                     0.0   \n",
       "4                     1.0                     0.0   \n",
       "\n",
       "   dst_host_same_src_port_rate  dst_host_srv_diff_host_rate  \\\n",
       "0                         0.11                          0.0   \n",
       "1                         0.05                          0.0   \n",
       "2                         0.03                          0.0   \n",
       "3                         0.03                          0.0   \n",
       "4                         0.02                          0.0   \n",
       "\n",
       "   dst_host_serror_rate  dst_host_srv_serror_rate  dst_host_rerror_rate  \\\n",
       "0                   0.0                       0.0                   0.0   \n",
       "1                   0.0                       0.0                   0.0   \n",
       "2                   0.0                       0.0                   0.0   \n",
       "3                   0.0                       0.0                   0.0   \n",
       "4                   0.0                       0.0                   0.0   \n",
       "\n",
       "   dst_host_srv_rerror_rate        label  \n",
       "0                       0.0  NoIntrusion  \n",
       "1                       0.0  NoIntrusion  \n",
       "2                       0.0  NoIntrusion  \n",
       "3                       0.0  NoIntrusion  \n",
       "4                       0.0  NoIntrusion  \n",
       "\n",
       "[5 rows x 42 columns]"
      ]
     },
     "execution_count": 1,
     "metadata": {},
     "output_type": "execute_result"
    }
   ],
   "source": [
    "#Reading the dataset\n",
    "import pandas as pd\n",
    "\n",
    "df =pd.read_csv(\"bin_data.csv\")\n",
    "df.head()"
   ]
  },
  {
   "cell_type": "code",
   "execution_count": 2,
   "metadata": {
    "colab": {
     "base_uri": "https://localhost:8080/"
    },
    "id": "_ZGG1rfG-HCz",
    "outputId": "3e905696-48db-45f5-e2c9-7811526fa957"
   },
   "outputs": [
    {
     "name": "stdout",
     "output_type": "stream",
     "text": [
      "Nombre des lignes :  494020\n"
     ]
    }
   ],
   "source": [
    "#Nombre des lignes\n",
    "print(\"Nombre des lignes : \",len(df))"
   ]
  },
  {
   "cell_type": "code",
   "execution_count": 3,
   "metadata": {
    "colab": {
     "base_uri": "https://localhost:8080/"
    },
    "id": "sE1GgvjM_VkH",
    "outputId": "77d7f438-043e-479d-9350-3f4104cb82fb"
   },
   "outputs": [
    {
     "name": "stdout",
     "output_type": "stream",
     "text": [
      "classes : \n",
      "Intrusion      396743\n",
      "NoIntrusion     97277\n",
      "Name: label, dtype: int64\n",
      "\n",
      "Nombre de classes sont : 2\n"
     ]
    }
   ],
   "source": [
    "h = df.label.value_counts()\n",
    "print(\"classes : \")\n",
    "print(h)\n",
    "print(\"\\nNombre de classes sont :\", len(h))"
   ]
  },
  {
   "cell_type": "code",
   "execution_count": 4,
   "metadata": {
    "colab": {
     "base_uri": "https://localhost:8080/"
    },
    "id": "3shb_Vr__ul9",
    "outputId": "505cb3df-bb0c-4a1f-d1a6-e099f0e5d48b"
   },
   "outputs": [
    {
     "data": {
      "text/plain": [
       "NoIntrusion     97277\n",
       "Intrusion      396743\n",
       "Name: label, dtype: int64"
      ]
     },
     "execution_count": 4,
     "metadata": {},
     "output_type": "execute_result"
    }
   ],
   "source": [
    "df.label.value_counts().sort_values()"
   ]
  },
  {
   "cell_type": "markdown",
   "metadata": {
    "id": "YfcS6yZh_6ZV"
   },
   "source": [
    "> __Pour afficcher lezs classes en circle %__"
   ]
  },
  {
   "cell_type": "code",
   "execution_count": 5,
   "metadata": {
    "id": "mnjWaSUm_5mM"
   },
   "outputs": [],
   "source": [
    "import matplotlib.pyplot as plt"
   ]
  },
  {
   "cell_type": "code",
   "execution_count": 6,
   "metadata": {
    "colab": {
     "base_uri": "https://localhost:8080/",
     "height": 482
    },
    "id": "k5ZgSpeM_zhF",
    "outputId": "f6896693-6e3a-4f2e-d30d-97158bb9c703"
   },
   "outputs": [
    {
     "data": {
      "image/png": "[encoded data removed]",
      "text/plain": [
       "<Figure size 576x576 with 1 Axes>"
      ]
     },
     "metadata": {},
     "output_type": "display_data"
    }
   ],
   "source": [
    "# pie chart distribution of Intruison and Non-Intrusion labels\n",
    "plt.figure(figsize=(8,8))\n",
    "plt.pie(df.label.value_counts().sort_values(),labels=df.label.unique(),autopct='%0.2f%%')\n",
    "#plt.pie(df.label.value_counts(),labels=le1.classes_ ,autopct='%0.2f%%')\n",
    "plt.title(\"Intrusion and Non-Intrusion Classes\")\n",
    "plt.legend()\n",
    "plt.savefig('Pie_chart_binary.png')\n",
    "plt.show()"
   ]
  },
  {
   "cell_type": "markdown",
   "metadata": {
    "id": "wKvf5p8G7IeL"
   },
   "source": [
    "## __2 - Data Cleaning__"
   ]
  },
  {
   "cell_type": "markdown",
   "metadata": {
    "id": "9_x8AwB1ATqz"
   },
   "source": [
    "> __Missing values__"
   ]
  },
  {
   "cell_type": "code",
   "execution_count": 7,
   "metadata": {
    "colab": {
     "base_uri": "https://localhost:8080/"
    },
    "id": "R2snMPYX89VF",
    "outputId": "697939f8-8494-4654-c089-8fa1bbd5f8e8"
   },
   "outputs": [
    {
     "data": {
      "text/plain": [
       "duration                       0\n",
       "protocol_type                  0\n",
       "service                        0\n",
       "flag                           0\n",
       "src_bytes                      0\n",
       "dst_bytes                      0\n",
       "land                           0\n",
       "wrong_fragment                 0\n",
       "urgent                         0\n",
       "hot                            0\n",
       "num_failed_logins              0\n",
       "logged_in                      0\n",
       "lnum_compromised               0\n",
       "lroot_shell                    0\n",
       "lsu_attempted                  0\n",
       "lnum_root                      0\n",
       "lnum_file_creations            0\n",
       "lnum_shells                    0\n",
       "lnum_access_files              0\n",
       "lnum_outbound_cmds             0\n",
       "is_host_login                  0\n",
       "is_guest_login                 0\n",
       "count                          0\n",
       "srv_count                      0\n",
       "serror_rate                    0\n",
       "srv_serror_rate                0\n",
       "rerror_rate                    0\n",
       "srv_rerror_rate                0\n",
       "same_srv_rate                  0\n",
       "diff_srv_rate                  0\n",
       "srv_diff_host_rate             0\n",
       "dst_host_count                 0\n",
       "dst_host_srv_count             0\n",
       "dst_host_same_srv_rate         0\n",
       "dst_host_diff_srv_rate         0\n",
       "dst_host_same_src_port_rate    0\n",
       "dst_host_srv_diff_host_rate    0\n",
       "dst_host_serror_rate           0\n",
       "dst_host_srv_serror_rate       0\n",
       "dst_host_rerror_rate           0\n",
       "dst_host_srv_rerror_rate       0\n",
       "label                          0\n",
       "dtype: int64"
      ]
     },
     "execution_count": 7,
     "metadata": {},
     "output_type": "execute_result"
    }
   ],
   "source": [
    "#Data Cleaning\n",
    "#   Code Here\n",
    "df.isnull().sum()"
   ]
  },
  {
   "cell_type": "markdown",
   "metadata": {
    "id": "cOdLgKsnAqsa"
   },
   "source": [
    "> -  __Aucun valurs missing__"
   ]
  },
  {
   "cell_type": "markdown",
   "metadata": {
    "id": "SRdwVGeX7Ibr"
   },
   "source": [
    "## __3 - Features Selection - Selection Des attributes__"
   ]
  },
  {
   "cell_type": "code",
   "execution_count": 8,
   "metadata": {
    "id": "MnD5DEsVCqmE"
   },
   "outputs": [],
   "source": [
    "DataFtr = df # DataFr pour utiliser dataset dans features selction"
   ]
  },
  {
   "cell_type": "markdown",
   "metadata": {
    "id": "nLEUOORIGXKQ"
   },
   "source": [
    "> - __Encoding categorical valurs to numbers__"
   ]
  },
  {
   "cell_type": "code",
   "execution_count": 9,
   "metadata": {
    "id": "NBwUsd_VGVM5"
   },
   "outputs": [],
   "source": [
    "# protocol_type feature mapping\n",
    "pmap = {'icmp':0, 'tcp':1, 'udp':2}\n",
    "DataFtr['protocol_type'] = DataFtr['protocol_type'].map(pmap)\n",
    "\n",
    "# flag feature mapping\n",
    "fmap = {'SF':0, 'S0':1, 'REJ':2, 'RSTR':3, 'RSTO':4, 'SH':5, 'S1':6, 'S2':7, 'RSTOS0':8, 'S3':9, 'OTH':10}\n",
    "DataFtr['flag'] = DataFtr['flag'].map(fmap)\n",
    "\n",
    "#Service \n",
    "Smap = {'http':0, 'smtp':1, 'finger':2, 'domain_u':3, 'auth':4, 'telnet':5, 'ftp':6,\n",
    "       'eco_i':7, 'ntp_u':8, 'ecr_i':9, 'other':10, 'private':11, 'pop_3':12, 'ftp_data':13,\n",
    "       'rje':14, 'time':15, 'mtp':16, 'link':17, 'remote_job':18, 'gopher':19, 'ssh':20,\n",
    "       'name':21, 'whois':22, 'domain':23, 'login':24, 'imap4':25, 'daytime':26, 'ctf':27,\n",
    "       'nntp':28, 'shell':29, 'IRC':30, 'nnsp':31, 'http_443':32, 'exec':33, 'printer':34,\n",
    "       'efs':35, 'courier':36, 'uucp':37, 'klogin':38, 'kshell':39, 'echo':40, 'discard':41,\n",
    "       'systat':42, 'supdup':43, 'iso_tsap':44, 'hostnames':45, 'csnet_ns':46, 'pop_2':47,\n",
    "       'sunrpc':48, 'uucp_path':49, 'netbios_ns':50, 'netbios_ssn':51, 'netbios_dgm':52,\n",
    "       'sql_net':51, 'vmnet':52, 'bgp':53, 'Z39_50':54, 'ldap':55, 'netstat':56, 'urh_i':57,\n",
    "       'X11':58, 'urp_i':59, 'pm_dump':60, 'tftp_u':61, 'tim_i':62, 'red_i':63}\n",
    "\n",
    "DataFtr['service'] = DataFtr['service'].map(Smap)\n",
    "\n",
    "#DataFtr.drop('service', axis = 1, inplace = True)"
   ]
  },
  {
   "cell_type": "code",
   "execution_count": 10,
   "metadata": {
    "colab": {
     "base_uri": "https://localhost:8080/"
    },
    "id": "zsgpSq3hCn6M",
    "outputId": "b40a04b7-9c7a-43f3-dbaf-f02ad6dd1d06",
    "scrolled": true
   },
   "outputs": [
    {
     "data": {
      "text/plain": [
       "Index(['duration', 'protocol_type', 'service', 'flag', 'src_bytes',\n",
       "       'dst_bytes', 'land', 'wrong_fragment', 'urgent', 'hot',\n",
       "       'num_failed_logins', 'logged_in', 'lnum_compromised', 'lroot_shell',\n",
       "       'lsu_attempted', 'lnum_root', 'lnum_file_creations', 'lnum_shells',\n",
       "       'lnum_access_files', 'lnum_outbound_cmds', 'is_host_login',\n",
       "       'is_guest_login', 'count', 'srv_count', 'serror_rate',\n",
       "       'srv_serror_rate', 'rerror_rate', 'srv_rerror_rate', 'same_srv_rate',\n",
       "       'diff_srv_rate', 'srv_diff_host_rate', 'dst_host_count',\n",
       "       'dst_host_srv_count', 'dst_host_same_srv_rate',\n",
       "       'dst_host_diff_srv_rate', 'dst_host_same_src_port_rate',\n",
       "       'dst_host_srv_diff_host_rate', 'dst_host_serror_rate',\n",
       "       'dst_host_srv_serror_rate', 'dst_host_rerror_rate',\n",
       "       'dst_host_srv_rerror_rate', 'label'],\n",
       "      dtype='object')"
      ]
     },
     "execution_count": 10,
     "metadata": {},
     "output_type": "execute_result"
    }
   ],
   "source": [
    "DataFtr.columns"
   ]
  },
  {
   "cell_type": "markdown",
   "metadata": {
    "id": "6CYgzfxECWoV"
   },
   "source": [
    "> - __X = Tous Les attribures sans class(labesl)__\n",
    "> - __y = classe(label)__"
   ]
  },
  {
   "cell_type": "code",
   "execution_count": 11,
   "metadata": {
    "id": "mDEcaxYjEBKg"
   },
   "outputs": [],
   "source": [
    "X = DataFtr[ ['duration', 'protocol_type', 'service', 'flag', 'src_bytes',\n",
    "       'dst_bytes', 'land', 'wrong_fragment', 'urgent', 'hot',\n",
    "       'num_failed_logins', 'logged_in', 'lnum_compromised', 'lroot_shell',\n",
    "       'lsu_attempted', 'lnum_root', 'lnum_file_creations', 'lnum_shells',\n",
    "       'lnum_access_files', 'lnum_outbound_cmds', 'is_host_login',\n",
    "       'is_guest_login', 'count', 'srv_count', 'serror_rate',\n",
    "       'srv_serror_rate', 'rerror_rate', 'srv_rerror_rate', 'same_srv_rate',\n",
    "       'diff_srv_rate', 'srv_diff_host_rate', 'dst_host_count',\n",
    "       'dst_host_srv_count', 'dst_host_same_srv_rate',\n",
    "       'dst_host_diff_srv_rate', 'dst_host_same_src_port_rate',\n",
    "       'dst_host_srv_diff_host_rate', 'dst_host_serror_rate',\n",
    "       'dst_host_srv_serror_rate', 'dst_host_rerror_rate',\n",
    "       'dst_host_srv_rerror_rate'] ]\n",
    "\n",
    "y = DataFtr[['label']]"
   ]
  },
  {
   "cell_type": "markdown",
   "metadata": {
    "id": "jZ7d_9lwA_ZR"
   },
   "source": [
    "### __3.1 - Mutual Infomration (MI)__"
   ]
  },
  {
   "cell_type": "markdown",
   "metadata": {
    "id": "L9zxwsqlFKkW"
   },
   "source": [
    "#### __First methode__"
   ]
  },
  {
   "cell_type": "code",
   "execution_count": 12,
   "metadata": {
    "id": "4whrs9nq_OwQ"
   },
   "outputs": [],
   "source": [
    "import time"
   ]
  },
  {
   "cell_type": "code",
   "execution_count": 13,
   "metadata": {
    "id": "DTjaU2nO89pN"
   },
   "outputs": [],
   "source": [
    "# MI\n",
    "#   Code Here\n",
    "from sklearn.feature_selection import SelectKBest, mutual_info_classif"
   ]
  },
  {
   "cell_type": "code",
   "execution_count": 17,
   "metadata": {
    "colab": {
     "base_uri": "https://localhost:8080/"
    },
    "id": "qHhe95lkF_Un",
    "outputId": "cccfb9f7-0962-47e8-ac48-d7d60dbb3bee"
   },
   "outputs": [
    {
     "data": {
      "text/plain": [
       "array([3.60251074e-02, 2.20381155e-01, 4.53023471e-01, 4.78377344e-02,\n",
       "       4.57069483e-01, 3.69274147e-01, 0.00000000e+00, 0.00000000e+00,\n",
       "       3.57955743e-04, 1.81290096e-03, 1.73247452e-04, 2.65612554e-01,\n",
       "       1.74195287e-03, 3.99201215e-04, 1.35661887e-04, 2.24841579e-03,\n",
       "       6.40615718e-05, 2.07238747e-04, 1.08618890e-03, 3.73895133e-04,\n",
       "       0.00000000e+00, 4.77288266e-04, 4.55460754e-01, 2.71463105e-01,\n",
       "       4.75659434e-02, 4.91334722e-02, 1.19392610e-03, 2.19371215e-03,\n",
       "       1.04724880e-01, 5.80763888e-02, 1.08880042e-01, 2.59282548e-01,\n",
       "       1.55096702e-01, 1.50530731e-01, 1.12604789e-01, 3.06438219e-01,\n",
       "       1.85243195e-01, 5.58555393e-02, 5.92370321e-02, 7.21498687e-03,\n",
       "       1.67715472e-02])"
      ]
     },
     "execution_count": 17,
     "metadata": {},
     "output_type": "execute_result"
    }
   ],
   "source": [
    "from sklearn.feature_selection import mutual_info_classif\n",
    "# determine the mutual information\n",
    "mutual_info = mutual_info_classif(X, y)\n",
    "mutual_info"
   ]
  },
  {
   "cell_type": "code",
   "execution_count": 18,
   "metadata": {
    "colab": {
     "base_uri": "https://localhost:8080/"
    },
    "id": "rkFKQWEVHa5J",
    "outputId": "f66dd9e2-57b5-44a3-bd78-15b781274ecb"
   },
   "outputs": [
    {
     "data": {
      "text/plain": [
       "src_bytes                      0.457069\n",
       "count                          0.455461\n",
       "service                        0.453023\n",
       "dst_bytes                      0.369274\n",
       "dst_host_same_src_port_rate    0.306438\n",
       "srv_count                      0.271463\n",
       "logged_in                      0.265613\n",
       "dst_host_count                 0.259283\n",
       "protocol_type                  0.220381\n",
       "dst_host_srv_diff_host_rate    0.185243\n",
       "dst_host_srv_count             0.155097\n",
       "dst_host_same_srv_rate         0.150531\n",
       "dst_host_diff_srv_rate         0.112605\n",
       "srv_diff_host_rate             0.108880\n",
       "same_srv_rate                  0.104725\n",
       "dst_host_srv_serror_rate       0.059237\n",
       "diff_srv_rate                  0.058076\n",
       "dst_host_serror_rate           0.055856\n",
       "srv_serror_rate                0.049133\n",
       "flag                           0.047838\n",
       "serror_rate                    0.047566\n",
       "duration                       0.036025\n",
       "dst_host_srv_rerror_rate       0.016772\n",
       "dst_host_rerror_rate           0.007215\n",
       "lnum_root                      0.002248\n",
       "srv_rerror_rate                0.002194\n",
       "hot                            0.001813\n",
       "lnum_compromised               0.001742\n",
       "rerror_rate                    0.001194\n",
       "lnum_access_files              0.001086\n",
       "is_guest_login                 0.000477\n",
       "lroot_shell                    0.000399\n",
       "lnum_outbound_cmds             0.000374\n",
       "urgent                         0.000358\n",
       "lnum_shells                    0.000207\n",
       "num_failed_logins              0.000173\n",
       "lsu_attempted                  0.000136\n",
       "lnum_file_creations            0.000064\n",
       "wrong_fragment                 0.000000\n",
       "land                           0.000000\n",
       "is_host_login                  0.000000\n",
       "dtype: float64"
      ]
     },
     "execution_count": 18,
     "metadata": {},
     "output_type": "execute_result"
    }
   ],
   "source": [
    "mutual_info = pd.Series(mutual_info)\n",
    "mutual_info.index = X.columns\n",
    "mutual_info.sort_values(ascending=False)"
   ]
  },
  {
   "cell_type": "markdown",
   "metadata": {
    "id": "POm-qqjdFWBF"
   },
   "source": [
    "#### __Second methode__"
   ]
  },
  {
   "cell_type": "code",
   "execution_count": null,
   "metadata": {
    "id": "U8Dixr2tHa2R"
   },
   "outputs": [],
   "source": []
  },
  {
   "cell_type": "code",
   "execution_count": 14,
   "metadata": {
    "colab": {
     "base_uri": "https://localhost:8080/"
    },
    "id": "4UREKex7RZhX",
    "outputId": "f71247ee-5710-498d-f9fe-1de5fcb41ff2",
    "scrolled": true
   },
   "outputs": [
    {
     "name": "stdout",
     "output_type": "stream",
     "text": [
      "Original X Shape is  (494020, 41)\n"
     ]
    }
   ],
   "source": [
    "print('Original X Shape is ' , X.shape)"
   ]
  },
  {
   "cell_type": "markdown",
   "metadata": {},
   "source": [
    "> <h2>Pour<b>K</b> </h2>"
   ]
  },
  {
   "cell_type": "code",
   "execution_count": 102,
   "metadata": {
    "id": "DDabIYqzAIns"
   },
   "outputs": [],
   "source": [
    "Mi = SelectKBest(score_func = mutual_info_classif, k=40)\n",
    "#Xmi = Mi.fit_transform(X, y)\n",
    "\n",
    "#showing X Dimension \n",
    "#print('X Mutual Info Shape is ' , Xmi.shape)"
   ]
  },
  {
   "cell_type": "code",
   "execution_count": 103,
   "metadata": {
    "colab": {
     "base_uri": "https://localhost:8080/"
    },
    "id": "_FgyujohRZe5",
    "outputId": "0d98969b-91cc-4edb-e68f-591d7b400254",
    "scrolled": true
   },
   "outputs": [
    {
     "name": "stdout",
     "output_type": "stream",
     "text": [
      "Index(['duration', 'protocol_type', 'service', 'flag', 'src_bytes',\n",
      "       'dst_bytes', 'land', 'wrong_fragment', 'urgent', 'hot', 'logged_in',\n",
      "       'lnum_compromised', 'lroot_shell', 'lsu_attempted', 'lnum_root',\n",
      "       'lnum_file_creations', 'lnum_shells', 'lnum_access_files',\n",
      "       'lnum_outbound_cmds', 'is_host_login', 'is_guest_login', 'count',\n",
      "       'srv_count', 'serror_rate', 'srv_serror_rate', 'rerror_rate',\n",
      "       'srv_rerror_rate', 'same_srv_rate', 'diff_srv_rate',\n",
      "       'srv_diff_host_rate', 'dst_host_count', 'dst_host_srv_count',\n",
      "       'dst_host_same_srv_rate', 'dst_host_diff_srv_rate',\n",
      "       'dst_host_same_src_port_rate', 'dst_host_srv_diff_host_rate',\n",
      "       'dst_host_serror_rate', 'dst_host_srv_serror_rate',\n",
      "       'dst_host_rerror_rate', 'dst_host_srv_rerror_rate'],\n",
      "      dtype='object')\n",
      "Time:  396.0796911716461\n"
     ]
    }
   ],
   "source": [
    "#Start time\n",
    "start_time = time.time()\n",
    "\n",
    "XMiSel = Mi.fit(X, y.values.ravel())\n",
    "\n",
    "selected_featMi= X.columns[(XMiSel.get_support())]\n",
    "print(selected_featMi)\n",
    "\n",
    "#End Time\n",
    "end_time = time.time()\n",
    "print(\"Time: \", end_time-start_time)"
   ]
  },
  {
   "cell_type": "markdown",
   "metadata": {
    "id": "-PRiAMX5ChTG"
   },
   "source": [
    "> ```python\n",
    " Df['duration', 'protocol_type', 'service', 'flag', 'src_bytes',\n",
    "       'dst_bytes', 'land', 'wrong_fragment', 'urgent', 'hot', 'logged_in',\n",
    "       'lnum_compromised', 'lroot_shell', 'lsu_attempted', 'lnum_root',\n",
    "       'lnum_file_creations', 'lnum_shells', 'lnum_access_files',\n",
    "       'lnum_outbound_cmds', 'is_host_login', 'is_guest_login', 'count',\n",
    "       'srv_count', 'serror_rate', 'srv_serror_rate', 'rerror_rate',\n",
    "       'srv_rerror_rate', 'same_srv_rate', 'diff_srv_rate',\n",
    "       'srv_diff_host_rate', 'dst_host_count', 'dst_host_srv_count',\n",
    "       'dst_host_same_srv_rate', 'dst_host_diff_srv_rate',\n",
    "       'dst_host_same_src_port_rate', 'dst_host_srv_diff_host_rate',\n",
    "       'dst_host_serror_rate', 'dst_host_srv_serror_rate',\n",
    "       'dst_host_rerror_rate', 'dst_host_srv_rerror_rate'] ]\n",
    " ```\n",
    "\n",
    "\n"
   ]
  },
  {
   "cell_type": "markdown",
   "metadata": {
    "id": "iTF61gedKX7_"
   },
   "source": [
    "# __Data split__"
   ]
  },
  {
   "cell_type": "markdown",
   "metadata": {
    "id": "8meVy-rsSJus"
   },
   "source": [
    "<div>\n",
    "<h1>\n",
    "Avant de split, on a choisi les attributes séléctinones (par Mutual Info par <b>K</b>)\n",
    "</h1>\n",
    "\n",
    "</div>\n"
   ]
  },
  {
   "cell_type": "code",
   "execution_count": 104,
   "metadata": {
    "colab": {
     "base_uri": "https://localhost:8080/",
     "height": 206
    },
    "id": "BSVly_jxTYpP",
    "outputId": "fcdc0c24-7d94-4222-b279-5aea1f914afb"
   },
   "outputs": [
    {
     "data": {
      "text/html": [
       "<div>\n",
       "<style scoped>\n",
       "    .dataframe tbody tr th:only-of-type {\n",
       "        vertical-align: middle;\n",
       "    }\n",
       "\n",
       "    .dataframe tbody tr th {\n",
       "        vertical-align: top;\n",
       "    }\n",
       "\n",
       "    .dataframe thead th {\n",
       "        text-align: right;\n",
       "    }\n",
       "</style>\n",
       "<table border=\"1\" class=\"dataframe\">\n",
       "  <thead>\n",
       "    <tr style=\"text-align: right;\">\n",
       "      <th></th>\n",
       "      <th>duration</th>\n",
       "      <th>protocol_type</th>\n",
       "      <th>service</th>\n",
       "      <th>flag</th>\n",
       "      <th>src_bytes</th>\n",
       "      <th>dst_bytes</th>\n",
       "      <th>land</th>\n",
       "      <th>wrong_fragment</th>\n",
       "      <th>urgent</th>\n",
       "      <th>hot</th>\n",
       "      <th>...</th>\n",
       "      <th>dst_host_srv_count</th>\n",
       "      <th>dst_host_same_srv_rate</th>\n",
       "      <th>dst_host_diff_srv_rate</th>\n",
       "      <th>dst_host_same_src_port_rate</th>\n",
       "      <th>dst_host_srv_diff_host_rate</th>\n",
       "      <th>dst_host_serror_rate</th>\n",
       "      <th>dst_host_srv_serror_rate</th>\n",
       "      <th>dst_host_rerror_rate</th>\n",
       "      <th>dst_host_srv_rerror_rate</th>\n",
       "      <th>label</th>\n",
       "    </tr>\n",
       "  </thead>\n",
       "  <tbody>\n",
       "    <tr>\n",
       "      <th>0</th>\n",
       "      <td>0</td>\n",
       "      <td>1</td>\n",
       "      <td>0</td>\n",
       "      <td>0</td>\n",
       "      <td>181</td>\n",
       "      <td>5450</td>\n",
       "      <td>0</td>\n",
       "      <td>0</td>\n",
       "      <td>0</td>\n",
       "      <td>0</td>\n",
       "      <td>...</td>\n",
       "      <td>9</td>\n",
       "      <td>1.0</td>\n",
       "      <td>0.0</td>\n",
       "      <td>0.11</td>\n",
       "      <td>0.0</td>\n",
       "      <td>0.0</td>\n",
       "      <td>0.0</td>\n",
       "      <td>0.0</td>\n",
       "      <td>0.0</td>\n",
       "      <td>NoIntrusion</td>\n",
       "    </tr>\n",
       "    <tr>\n",
       "      <th>1</th>\n",
       "      <td>0</td>\n",
       "      <td>1</td>\n",
       "      <td>0</td>\n",
       "      <td>0</td>\n",
       "      <td>239</td>\n",
       "      <td>486</td>\n",
       "      <td>0</td>\n",
       "      <td>0</td>\n",
       "      <td>0</td>\n",
       "      <td>0</td>\n",
       "      <td>...</td>\n",
       "      <td>19</td>\n",
       "      <td>1.0</td>\n",
       "      <td>0.0</td>\n",
       "      <td>0.05</td>\n",
       "      <td>0.0</td>\n",
       "      <td>0.0</td>\n",
       "      <td>0.0</td>\n",
       "      <td>0.0</td>\n",
       "      <td>0.0</td>\n",
       "      <td>NoIntrusion</td>\n",
       "    </tr>\n",
       "    <tr>\n",
       "      <th>2</th>\n",
       "      <td>0</td>\n",
       "      <td>1</td>\n",
       "      <td>0</td>\n",
       "      <td>0</td>\n",
       "      <td>235</td>\n",
       "      <td>1337</td>\n",
       "      <td>0</td>\n",
       "      <td>0</td>\n",
       "      <td>0</td>\n",
       "      <td>0</td>\n",
       "      <td>...</td>\n",
       "      <td>29</td>\n",
       "      <td>1.0</td>\n",
       "      <td>0.0</td>\n",
       "      <td>0.03</td>\n",
       "      <td>0.0</td>\n",
       "      <td>0.0</td>\n",
       "      <td>0.0</td>\n",
       "      <td>0.0</td>\n",
       "      <td>0.0</td>\n",
       "      <td>NoIntrusion</td>\n",
       "    </tr>\n",
       "    <tr>\n",
       "      <th>3</th>\n",
       "      <td>0</td>\n",
       "      <td>1</td>\n",
       "      <td>0</td>\n",
       "      <td>0</td>\n",
       "      <td>219</td>\n",
       "      <td>1337</td>\n",
       "      <td>0</td>\n",
       "      <td>0</td>\n",
       "      <td>0</td>\n",
       "      <td>0</td>\n",
       "      <td>...</td>\n",
       "      <td>39</td>\n",
       "      <td>1.0</td>\n",
       "      <td>0.0</td>\n",
       "      <td>0.03</td>\n",
       "      <td>0.0</td>\n",
       "      <td>0.0</td>\n",
       "      <td>0.0</td>\n",
       "      <td>0.0</td>\n",
       "      <td>0.0</td>\n",
       "      <td>NoIntrusion</td>\n",
       "    </tr>\n",
       "    <tr>\n",
       "      <th>4</th>\n",
       "      <td>0</td>\n",
       "      <td>1</td>\n",
       "      <td>0</td>\n",
       "      <td>0</td>\n",
       "      <td>217</td>\n",
       "      <td>2032</td>\n",
       "      <td>0</td>\n",
       "      <td>0</td>\n",
       "      <td>0</td>\n",
       "      <td>0</td>\n",
       "      <td>...</td>\n",
       "      <td>49</td>\n",
       "      <td>1.0</td>\n",
       "      <td>0.0</td>\n",
       "      <td>0.02</td>\n",
       "      <td>0.0</td>\n",
       "      <td>0.0</td>\n",
       "      <td>0.0</td>\n",
       "      <td>0.0</td>\n",
       "      <td>0.0</td>\n",
       "      <td>NoIntrusion</td>\n",
       "    </tr>\n",
       "  </tbody>\n",
       "</table>\n",
       "<p>5 rows × 41 columns</p>\n",
       "</div>"
      ],
      "text/plain": [
       "   duration  protocol_type  service  flag  src_bytes  dst_bytes  land  \\\n",
       "0         0              1        0     0        181       5450     0   \n",
       "1         0              1        0     0        239        486     0   \n",
       "2         0              1        0     0        235       1337     0   \n",
       "3         0              1        0     0        219       1337     0   \n",
       "4         0              1        0     0        217       2032     0   \n",
       "\n",
       "   wrong_fragment  urgent  hot  ...  dst_host_srv_count  \\\n",
       "0               0       0    0  ...                   9   \n",
       "1               0       0    0  ...                  19   \n",
       "2               0       0    0  ...                  29   \n",
       "3               0       0    0  ...                  39   \n",
       "4               0       0    0  ...                  49   \n",
       "\n",
       "   dst_host_same_srv_rate  dst_host_diff_srv_rate  \\\n",
       "0                     1.0                     0.0   \n",
       "1                     1.0                     0.0   \n",
       "2                     1.0                     0.0   \n",
       "3                     1.0                     0.0   \n",
       "4                     1.0                     0.0   \n",
       "\n",
       "   dst_host_same_src_port_rate  dst_host_srv_diff_host_rate  \\\n",
       "0                         0.11                          0.0   \n",
       "1                         0.05                          0.0   \n",
       "2                         0.03                          0.0   \n",
       "3                         0.03                          0.0   \n",
       "4                         0.02                          0.0   \n",
       "\n",
       "   dst_host_serror_rate  dst_host_srv_serror_rate  dst_host_rerror_rate  \\\n",
       "0                   0.0                       0.0                   0.0   \n",
       "1                   0.0                       0.0                   0.0   \n",
       "2                   0.0                       0.0                   0.0   \n",
       "3                   0.0                       0.0                   0.0   \n",
       "4                   0.0                       0.0                   0.0   \n",
       "\n",
       "   dst_host_srv_rerror_rate        label  \n",
       "0                       0.0  NoIntrusion  \n",
       "1                       0.0  NoIntrusion  \n",
       "2                       0.0  NoIntrusion  \n",
       "3                       0.0  NoIntrusion  \n",
       "4                       0.0  NoIntrusion  \n",
       "\n",
       "[5 rows x 41 columns]"
      ]
     },
     "execution_count": 104,
     "metadata": {},
     "output_type": "execute_result"
    }
   ],
   "source": [
    "#Data Split\n",
    "#   Code Here\n",
    "dfsp = DataFtr[ ['duration', 'protocol_type', 'service', 'flag', 'src_bytes',\n",
    "       'dst_bytes', 'land', 'wrong_fragment', 'urgent', 'hot', 'logged_in',\n",
    "       'lnum_compromised', 'lroot_shell', 'lsu_attempted', 'lnum_root',\n",
    "       'lnum_file_creations', 'lnum_shells', 'lnum_access_files',\n",
    "       'lnum_outbound_cmds', 'is_host_login', 'is_guest_login', 'count',\n",
    "       'srv_count', 'serror_rate', 'srv_serror_rate', 'rerror_rate',\n",
    "       'srv_rerror_rate', 'same_srv_rate', 'diff_srv_rate',\n",
    "       'srv_diff_host_rate', 'dst_host_count', 'dst_host_srv_count',\n",
    "       'dst_host_same_srv_rate', 'dst_host_diff_srv_rate',\n",
    "       'dst_host_same_src_port_rate', 'dst_host_srv_diff_host_rate',\n",
    "       'dst_host_serror_rate', 'dst_host_srv_serror_rate',\n",
    "       'dst_host_rerror_rate', 'dst_host_srv_rerror_rate',\n",
    "                 'label' ] ]\n",
    "dfsp.head()"
   ]
  },
  {
   "cell_type": "code",
   "execution_count": 105,
   "metadata": {
    "colab": {
     "base_uri": "https://localhost:8080/"
    },
    "id": "yZ0D2ZcfFhR8",
    "outputId": "1ab2cdf3-42a1-4c30-ce19-5feb80673007",
    "scrolled": true
   },
   "outputs": [
    {
     "name": "stderr",
     "output_type": "stream",
     "text": [
      "C:\\Users\\nsc\\AppData\\Local\\Temp/ipykernel_11864/844192966.py:3: SettingWithCopyWarning: \n",
      "A value is trying to be set on a copy of a slice from a DataFrame.\n",
      "Try using .loc[row_indexer,col_indexer] = value instead\n",
      "\n",
      "See the caveats in the documentation: https://pandas.pydata.org/pandas-docs/stable/user_guide/indexing.html#returning-a-view-versus-a-copy\n",
      "  dfsp['label'] = dfsp['label'].map(Lmap)\n"
     ]
    }
   ],
   "source": [
    "# Label feature mapping\n",
    "Lmap = {'NoIntrusion':0, 'Intrusion':1}\n",
    "dfsp['label'] = dfsp['label'].map(Lmap)"
   ]
  },
  {
   "cell_type": "code",
   "execution_count": 106,
   "metadata": {
    "id": "LvBTFLBoGGkK"
   },
   "outputs": [],
   "source": [
    "Xsp = dfsp[ ['duration', 'protocol_type', 'service', 'flag', 'src_bytes',\n",
    "       'dst_bytes', 'land', 'wrong_fragment', 'urgent', 'hot', 'logged_in',\n",
    "       'lnum_compromised', 'lroot_shell', 'lsu_attempted', 'lnum_root',\n",
    "       'lnum_file_creations', 'lnum_shells', 'lnum_access_files',\n",
    "       'lnum_outbound_cmds', 'is_host_login', 'is_guest_login', 'count',\n",
    "       'srv_count', 'serror_rate', 'srv_serror_rate', 'rerror_rate',\n",
    "       'srv_rerror_rate', 'same_srv_rate', 'diff_srv_rate',\n",
    "       'srv_diff_host_rate', 'dst_host_count', 'dst_host_srv_count',\n",
    "       'dst_host_same_srv_rate', 'dst_host_diff_srv_rate',\n",
    "       'dst_host_same_src_port_rate', 'dst_host_srv_diff_host_rate',\n",
    "       'dst_host_serror_rate', 'dst_host_srv_serror_rate',\n",
    "       'dst_host_rerror_rate', 'dst_host_srv_rerror_rate'] ]\n",
    "ysp = dfsp[['label']]"
   ]
  },
  {
   "cell_type": "code",
   "execution_count": 107,
   "metadata": {
    "colab": {
     "base_uri": "https://localhost:8080/"
    },
    "id": "h-uIspJvGGha",
    "outputId": "94980e57-ef09-4561-a460-e224d4b23684"
   },
   "outputs": [
    {
     "name": "stdout",
     "output_type": "stream",
     "text": [
      "X_train shape is  (345814, 40)\n",
      "X_test shape is  (148206, 40)\n",
      "y_train shape is  (345814, 1)\n",
      "y_test shape is  (148206, 1)\n"
     ]
    }
   ],
   "source": [
    "#Import Libraries\n",
    "from sklearn.model_selection import train_test_split\n",
    "#----------------------------------------------------\n",
    "\n",
    "#Splitting data\n",
    "\n",
    "X_train, X_test, y_train, y_test = train_test_split(Xsp, ysp, test_size=0.3, random_state=44, shuffle =True)\n",
    "\n",
    "#Splitted Data\n",
    "print('X_train shape is ' , X_train.shape)\n",
    "print('X_test shape is ' , X_test.shape)\n",
    "print('y_train shape is ' , y_train.shape)\n",
    "print('y_test shape is ' , y_test.shape)"
   ]
  },
  {
   "cell_type": "markdown",
   "metadata": {
    "id": "vGbf7nbi7IWL"
   },
   "source": [
    "# __ML Algorithms__"
   ]
  },
  {
   "cell_type": "markdown",
   "metadata": {
    "id": "JftiT-ezUL-d"
   },
   "source": [
    "<div>\n",
    "<h2>\n",
    "<b>NB:</b> Avec accuracy, precsion, recall,.., ROC\n",
    "</h2>\n",
    "</div>"
   ]
  },
  {
   "cell_type": "markdown",
   "metadata": {
    "id": "8Flw0piJ8GaA"
   },
   "source": [
    "## __• Supervised learnin__"
   ]
  },
  {
   "cell_type": "markdown",
   "metadata": {
    "id": "SUq_C8UTJh0P"
   },
   "source": [
    "### __0 - SVM__"
   ]
  },
  {
   "cell_type": "code",
   "execution_count": null,
   "metadata": {
    "id": "z9nhZnk8JhjI"
   },
   "outputs": [],
   "source": [
    "from sklearn import svm"
   ]
  },
  {
   "cell_type": "markdown",
   "metadata": {
    "id": "8woCkhO77ITj"
   },
   "source": [
    "### __1 - Naives Bayes__"
   ]
  },
  {
   "cell_type": "code",
   "execution_count": 108,
   "metadata": {
    "colab": {
     "base_uri": "https://localhost:8080/"
    },
    "id": "1Zt-2Ij99XVk",
    "outputId": "3145a1a8-7367-40f1-d8bc-9f031a222f14"
   },
   "outputs": [
    {
     "name": "stderr",
     "output_type": "stream",
     "text": [
      "C:\\Users\\nsc\\anaconda3\\lib\\site-packages\\sklearn\\utils\\validation.py:63: DataConversionWarning: A column-vector y was passed when a 1d array was expected. Please change the shape of y to (n_samples, ), for example using ravel().\n",
      "  return f(*args, **kwargs)\n"
     ]
    },
    {
     "name": "stdout",
     "output_type": "stream",
     "text": [
      "------------------------------------------\n",
      "             Intrusion  NoIntrusion\n",
      "Intrusion       107410        11679\n",
      "NoIntrusion        239        28878\n",
      "------------------------------------------\n",
      "Accuracy =  0.9195849020957316  %\n",
      "------------------------------------------\n",
      "Precision =  0.9019304889620368  %\n",
      "------------------------------------------\n",
      "Recall =  0.9977798214567716  %\n",
      "------------------------------------------\n",
      "F1 score =  0.9474371300796515  %\n",
      "------------------------------------------\n",
      "Time:  1.8898327350616455\n"
     ]
    }
   ],
   "source": [
    "start_time = time.time()\n",
    "\n",
    "# Naive Baye\n",
    "#   Code Here\n",
    "#Naive Bayes Classifier\n",
    "from sklearn import metrics\n",
    "from sklearn import tree\n",
    "from sklearn.naive_bayes import GaussianNB\n",
    "\n",
    "from sklearn.metrics import accuracy_score # For accuracy\n",
    "from sklearn.metrics import precision_score # Precision\n",
    "from sklearn.metrics import recall_score # Recall\n",
    "from sklearn.metrics import f1_score # F1 F-mesure\n",
    "\n",
    "\n",
    "from sklearn.metrics import classification_report\n",
    "from sklearn.metrics import confusion_matrix\n",
    "from sklearn.metrics import mean_squared_error\n",
    "\n",
    "NB = GaussianNB()\n",
    "NB.fit(X_train, y_train)\n",
    "predictionNB = NB.predict(X_test)\n",
    "\n",
    "#matrix best display\n",
    "print(\"------------------------------------------\")\n",
    "cmtx = pd.DataFrame(\n",
    "    confusion_matrix(y_test, predictionNB, labels=[1,0]), \n",
    "    index=['Intrusion', 'NoIntrusion'], \n",
    "    columns=['Intrusion', 'NoIntrusion']\n",
    ")\n",
    "print(cmtx)\n",
    "\n",
    "## matrix \n",
    "\"\"\" print(\"------------------------------------------\")\n",
    "    matrix = confusion_matrix(y_test, predictionNB)\n",
    "    print(matrix)\n",
    "\"\"\"\n",
    "\n",
    "# Accuracy = TP + TN / P + N\n",
    "accNB=accuracy_score(predictionNB, y_test)\n",
    "print(\"------------------------------------------\")\n",
    "print(\"Accuracy = \",accNB,\" %\")\n",
    "\n",
    "#precision = TP / TP + FP\n",
    "precisionNB = precision_score(predictionNB, y_test)\n",
    "print(\"------------------------------------------\")\n",
    "print('Precision = ' ,precisionNB,\" %\")\n",
    "\n",
    "#Recall = TP / TP + FN\n",
    "recallNB= recall_score(predictionNB, y_test)\n",
    "print(\"------------------------------------------\")\n",
    "print('Recall = ' ,recallNB,\" %\")\n",
    "\n",
    "# f1= ( 2*Precision * Recall) / precision + recall\n",
    "f1NB = f1_score(predictionNB, y_test)\n",
    "print(\"------------------------------------------\")\n",
    "print('F1 score = ',f1NB, \" %\")\n",
    "print(\"------------------------------------------\")\n",
    "\n",
    "#report = classification_report(y_train, prediction)\n",
    "#print(report)\n",
    "\n",
    "#End Time\n",
    "end_time = time.time()\n",
    "print(\"Time: \", end_time-start_time)"
   ]
  },
  {
   "cell_type": "markdown",
   "metadata": {
    "id": "tyGUJF-G_ioH"
   },
   "source": [
    "> <h2><b>Entropy NB</b></h2>"
   ]
  },
  {
   "cell_type": "code",
   "execution_count": 109,
   "metadata": {
    "colab": {
     "base_uri": "https://localhost:8080/"
    },
    "id": "7TZa-S7f7cQe",
    "outputId": "151bfcd4-6194-4721-ab86-8dfaae028445"
   },
   "outputs": [
    {
     "name": "stdout",
     "output_type": "stream",
     "text": [
      "Entropy NB is: 0.09309530348371399\n"
     ]
    }
   ],
   "source": [
    "#Entropy\n",
    "from math import log\n",
    "\n",
    "print(\"Entropy NB is: \"+ str(-precisionNB*log(precisionNB)))"
   ]
  },
  {
   "cell_type": "code",
   "execution_count": 110,
   "metadata": {
    "id": "5oQ-XSum7GrP"
   },
   "outputs": [],
   "source": [
    "from sklearn.metrics import roc_auc_score\n",
    "from sklearn.metrics import roc_curve, auc"
   ]
  },
  {
   "cell_type": "code",
   "execution_count": 111,
   "metadata": {
    "colab": {
     "base_uri": "https://localhost:8080/",
     "height": 312
    },
    "id": "4f1CGc-p7GZw",
    "outputId": "42d4af14-d49d-4107-d262-e7aea34e472c"
   },
   "outputs": [
    {
     "name": "stderr",
     "output_type": "stream",
     "text": [
      "No handles with labels found to put in legend.\n"
     ]
    },
    {
     "data": {
      "image/png": "[encoded data removed]",
      "text/plain": [
       "<Figure size 432x288 with 1 Axes>"
      ]
     },
     "metadata": {
      "needs_background": "light"
     },
     "output_type": "display_data"
    }
   ],
   "source": [
    "#define metrics\n",
    "#define metrics\n",
    "import matplotlib.pyplot as plt\n",
    "\n",
    "fprNB, tprNB, _ = metrics.roc_curve(y_test, predictionNB)\n",
    "aucNB = auc(fprNB, tprNB)\n",
    "\n",
    "plt.plot([0, 1], [0, 1], 'k--')\n",
    "plt.plot(fprNB, tprNB)\n",
    "plt.xlabel('False positive rate')\n",
    "plt.ylabel('True positive rate')\n",
    "plt.title('ROC curve')\n",
    "plt.legend(loc='best')\n",
    "plt.savefig('NB3_binary_roc.png')\n",
    "plt.show()"
   ]
  },
  {
   "cell_type": "code",
   "execution_count": 112,
   "metadata": {
    "colab": {
     "base_uri": "https://localhost:8080/"
    },
    "id": "Nwoe1C7EPSwQ",
    "outputId": "c3b239ad-95a0-492b-bf36-3d71ea34251e"
   },
   "outputs": [
    {
     "data": {
      "text/plain": [
       "array([0.        , 0.90193049, 1.        ])"
      ]
     },
     "execution_count": 112,
     "metadata": {},
     "output_type": "execute_result"
    }
   ],
   "source": [
    "tprNB"
   ]
  },
  {
   "cell_type": "code",
   "execution_count": 113,
   "metadata": {
    "colab": {
     "base_uri": "https://localhost:8080/"
    },
    "id": "UKV4m1kYPSqh",
    "outputId": "b2327d82-15af-456e-8048-92c1b3f7f908"
   },
   "outputs": [
    {
     "data": {
      "text/plain": [
       "array([0.        , 0.00820826, 1.        ])"
      ]
     },
     "execution_count": 113,
     "metadata": {},
     "output_type": "execute_result"
    }
   ],
   "source": [
    "fprNB"
   ]
  },
  {
   "cell_type": "markdown",
   "metadata": {
    "id": "OjOzYWUg7IQz"
   },
   "source": [
    "### __2 - KNN - KPPV__"
   ]
  },
  {
   "cell_type": "code",
   "execution_count": 124,
   "metadata": {
    "colab": {
     "base_uri": "https://localhost:8080/"
    },
    "id": "cOYY0VP99aHW",
    "outputId": "92a86492-fc9e-4281-89e2-eef3093c45c4"
   },
   "outputs": [
    {
     "name": "stderr",
     "output_type": "stream",
     "text": [
      "C:\\Users\\nsc\\anaconda3\\lib\\site-packages\\sklearn\\neighbors\\_classification.py:179: DataConversionWarning: A column-vector y was passed when a 1d array was expected. Please change the shape of y to (n_samples,), for example using ravel().\n",
      "  return self._fit(X, y)\n"
     ]
    },
    {
     "name": "stdout",
     "output_type": "stream",
     "text": [
      "------------------------------------------\n",
      "             Intrusion  NoIntrusion\n",
      "Intrusion       119034           55\n",
      "NoIntrusion         31        29086\n",
      "------------------------------------------\n",
      "Accuracy =  0.9994197265967639  %\n",
      "------------------------------------------\n",
      "Precision =  0.9995381605353979  %\n",
      "------------------------------------------\n",
      "Recall =  0.9997396380128502  %\n",
      "------------------------------------------\n",
      "F1 score =  0.9996388891221646  %\n",
      "------------------------------------------\n",
      "Time:  927.8116207122803\n"
     ]
    }
   ],
   "source": [
    "# KNN - KPPV\n",
    "#   Code Here\n",
    "start_time = time.time()\n",
    "\n",
    "# KNN - KPPV\n",
    "#   Code Here\n",
    "#Import Libraries\n",
    "from sklearn.neighbors import KNeighborsClassifier\n",
    "#----------------------------------------------------\n",
    "\n",
    "#Applying KNeighborsClassifier Model \n",
    "\n",
    "'''\n",
    "#sklearn.neighbors.KNeighborsClassifier(n_neighbors=5, weights='uniform’, algorithm=’auto’, leaf_size=30,\n",
    "#                                       p=2, metric='minkowski’, metric_params=None,n_jobs=None)\n",
    "'''\n",
    "\n",
    "KNN = KNeighborsClassifier(n_neighbors= 3) # it can be ball_tree, kd_tree,brute\n",
    "KNN.fit(X_train, y_train)\n",
    "\n",
    "predictionKNN = KNN.predict(X_test)\n",
    "\n",
    "#matrix best display\n",
    "print(\"------------------------------------------\")\n",
    "cmtx = pd.DataFrame(\n",
    "    confusion_matrix(y_test, predictionKNN, labels=[1,0]), \n",
    "    index=['Intrusion', 'NoIntrusion'], \n",
    "    columns=['Intrusion', 'NoIntrusion']\n",
    ")\n",
    "print(cmtx)\n",
    "\n",
    "## matrix \n",
    "    #print(\"------------------------------------------\")\n",
    "    #matrix = confusion_matrix(y_train, prediction)\n",
    "    #print(matrix)\n",
    "\n",
    "# Accuracy\n",
    "accKNN=accuracy_score(predictionKNN, y_test)\n",
    "print(\"------------------------------------------\")\n",
    "print(\"Accuracy = \",accKNN,\" %\")\n",
    "\n",
    "#precision\n",
    "precisionKNN = precision_score(predictionKNN, y_test)\n",
    "print(\"------------------------------------------\")\n",
    "print('Precision = ' ,precisionKNN,\" %\")\n",
    "\n",
    "#Recall\n",
    "recallKNN= recall_score(predictionKNN, y_test)\n",
    "print(\"------------------------------------------\")\n",
    "print('Recall = ' ,recallKNN,\" %\")\n",
    "\n",
    "# f1: 2 tp / (2 tp + fp + fn)\n",
    "f1KNN = f1_score(predictionKNN, y_test)\n",
    "print(\"------------------------------------------\")\n",
    "print('F1 score = ',f1KNN, \" %\")\n",
    "print(\"------------------------------------------\")\n",
    "\n",
    "#report = classification_report(y_train, prediction)\n",
    "#print(report)\n",
    "\n",
    "#End Time\n",
    "end_time = time.time()\n",
    "print(\"Time: \", end_time-start_time)"
   ]
  },
  {
   "cell_type": "markdown",
   "metadata": {
    "id": "iyIuK61gAdK0"
   },
   "source": [
    "> <h2><b>Entropy KNN</b></h2>"
   ]
  },
  {
   "cell_type": "code",
   "execution_count": 98,
   "metadata": {
    "colab": {
     "base_uri": "https://localhost:8080/"
    },
    "id": "_NmrhhH5AuFr",
    "outputId": "bb1cf5ea-eb91-4cb9-fe86-e9d10c8ecd3a"
   },
   "outputs": [
    {
     "name": "stdout",
     "output_type": "stream",
     "text": [
      "Entropy KNN is: 0.00046173280033471285\n"
     ]
    }
   ],
   "source": [
    "#Entropy\n",
    "from math import log\n",
    "\n",
    "print(\"Entropy KNN is: \"+ str(-precisionKNN*log(precisionKNN)))"
   ]
  },
  {
   "cell_type": "code",
   "execution_count": 99,
   "metadata": {
    "colab": {
     "base_uri": "https://localhost:8080/",
     "height": 312
    },
    "id": "Bi4bJ49YA1IL",
    "outputId": "b4340144-2590-44e0-bdd1-c15f24db4d0f"
   },
   "outputs": [
    {
     "name": "stderr",
     "output_type": "stream",
     "text": [
      "No handles with labels found to put in legend.\n"
     ]
    },
    {
     "data": {
      "image/png": "[encoded data removed]",
      "text/plain": [
       "<Figure size 432x288 with 1 Axes>"
      ]
     },
     "metadata": {
      "needs_background": "light"
     },
     "output_type": "display_data"
    }
   ],
   "source": [
    "#define metrics\n",
    "#define metrics\n",
    "import matplotlib.pyplot as plt\n",
    "\n",
    "fprKNN, tprKNN, _ = metrics.roc_curve(y_test, predictionKNN)\n",
    "aucKNN = auc(fprKNN, tprKNN)\n",
    "\n",
    "plt.plot([0, 1], [0, 1], 'k--')\n",
    "plt.plot(fprKNN, tprKNN)\n",
    "plt.xlabel('False positive rate')\n",
    "plt.ylabel('True positive rate')\n",
    "plt.title('ROC curve')\n",
    "plt.legend(loc='best')\n",
    "plt.savefig('KNN3_binary_roc.png')\n",
    "plt.show()"
   ]
  },
  {
   "cell_type": "code",
   "execution_count": 100,
   "metadata": {
    "colab": {
     "base_uri": "https://localhost:8080/"
    },
    "id": "0LoCttaZA8Xa",
    "outputId": "7211fa0a-bbc9-463d-d9f1-8762a1e2f4b2"
   },
   "outputs": [
    {
     "data": {
      "text/plain": [
       "array([0.        , 0.99953816, 1.        ])"
      ]
     },
     "execution_count": 100,
     "metadata": {},
     "output_type": "execute_result"
    }
   ],
   "source": [
    "tprKNN"
   ]
  },
  {
   "cell_type": "code",
   "execution_count": 101,
   "metadata": {
    "colab": {
     "base_uri": "https://localhost:8080/"
    },
    "id": "x6tnogzsA8Ui",
    "outputId": "263a1107-6ad9-40a0-9055-a11347ae97e3"
   },
   "outputs": [
    {
     "data": {
      "text/plain": [
       "array([0.        , 0.00106467, 1.        ])"
      ]
     },
     "execution_count": 101,
     "metadata": {},
     "output_type": "execute_result"
    }
   ],
   "source": [
    "fprKNN"
   ]
  },
  {
   "cell_type": "code",
   "execution_count": null,
   "metadata": {
    "id": "r51RhShsA096"
   },
   "outputs": [],
   "source": []
  },
  {
   "cell_type": "markdown",
   "metadata": {
    "id": "FVAvOHan7yWx"
   },
   "source": [
    "### __3 - ID3 - Decision Tree(Arbre de Décisiuon)__"
   ]
  },
  {
   "cell_type": "code",
   "execution_count": 114,
   "metadata": {
    "colab": {
     "base_uri": "https://localhost:8080/"
    },
    "id": "JbpcNxe7RTvl",
    "outputId": "1e051811-4326-43bf-e061-46f63816147c"
   },
   "outputs": [
    {
     "name": "stdout",
     "output_type": "stream",
     "text": [
      "------------------------------------------\n",
      "           Intrusion  Intrusion\n",
      "Intrusion     119074         15\n",
      "Intrusion         18      29099\n",
      "------------------------------------------\n",
      "Accuracy =  0.9997773369499211  %\n",
      "------------------------------------------\n",
      "Precision =  0.9998740437823812  %\n",
      "------------------------------------------\n",
      "Recall =  0.9998488563463541  %\n",
      "------------------------------------------\n",
      "F1 score =  0.999861449905744  %\n",
      "------------------------------------------\n",
      "Time:  2.2507317066192627\n"
     ]
    }
   ],
   "source": [
    "# KNN - KPPV\n",
    "#   Code Here\n",
    "start_time = time.time()\n",
    "# DT \n",
    "#   Code Here\n",
    "\n",
    "#Decision TreeClassifier\n",
    "from sklearn.metrics import confusion_matrix\n",
    "from sklearn import tree\n",
    "\n",
    "\n",
    "DT = tree.DecisionTreeClassifier(criterion=\"entropy\")\n",
    "DT.fit(X_train, y_train)\n",
    "predictionDT = DT.predict(X_test)\n",
    "\n",
    "#matrix best display\n",
    "print(\"------------------------------------------\")\n",
    "cmtx = pd.DataFrame(\n",
    "    confusion_matrix(y_test, predictionDT, labels=[1,0]), \n",
    "    index=['Intrusion', 'Intrusion'], \n",
    "    columns=['Intrusion', 'Intrusion']\n",
    ")\n",
    "print(cmtx)\n",
    "\n",
    "## matrix \n",
    "    #print(\"------------------------------------------\")\n",
    "    #matrix = confusion_matrix(y_train, prediction)\n",
    "    #print(matrix)\n",
    "\n",
    "# Accuracy\n",
    "accDT=accuracy_score(predictionDT, y_test)\n",
    "print(\"------------------------------------------\")\n",
    "print(\"Accuracy = \",accDT,\" %\")\n",
    "\n",
    "#precision\n",
    "precisionDT = precision_score(predictionDT, y_test)\n",
    "print(\"------------------------------------------\")\n",
    "print('Precision = ' ,precisionDT,\" %\")\n",
    "\n",
    "#Recall\n",
    "recallDT= recall_score(predictionDT, y_test)\n",
    "print(\"------------------------------------------\")\n",
    "print('Recall = ' ,recallDT,\" %\")\n",
    "\n",
    "# f1: 2 tp / (2 tp + fp + fn)\n",
    "f1DT = f1_score(predictionDT, y_test)\n",
    "print(\"------------------------------------------\")\n",
    "print('F1 score = ',f1DT, \" %\")\n",
    "print(\"------------------------------------------\")\n",
    "\n",
    "#report = classification_report(y_train, prediction)\n",
    "#print(report)\n",
    "\n",
    "#End Time\n",
    "end_time = time.time()\n",
    "print(\"Time: \", end_time-start_time)"
   ]
  },
  {
   "cell_type": "markdown",
   "metadata": {
    "id": "IIBj18toBbpx"
   },
   "source": [
    "> <h2> <b>Entropy DT </b> </2>"
   ]
  },
  {
   "cell_type": "code",
   "execution_count": 115,
   "metadata": {
    "colab": {
     "base_uri": "https://localhost:8080/"
    },
    "id": "AK_tMa2BBbST",
    "outputId": "ff62316f-7ec6-4d0f-bfd0-492b7730a9e9"
   },
   "outputs": [
    {
     "name": "stdout",
     "output_type": "stream",
     "text": [
      "Entropy DT of is: 0.00012594828480134654\n"
     ]
    }
   ],
   "source": [
    "#Entropy KNN\n",
    "from math import log\n",
    "\n",
    "print(\"Entropy DT of is: \" + str(-precisionDT*log(precisionDT)))"
   ]
  },
  {
   "cell_type": "code",
   "execution_count": 116,
   "metadata": {
    "colab": {
     "base_uri": "https://localhost:8080/",
     "height": 312
    },
    "id": "YJtoBMH1BbQ7",
    "outputId": "f07f6250-ab44-4feb-808c-b3328ab3c1b9"
   },
   "outputs": [
    {
     "name": "stderr",
     "output_type": "stream",
     "text": [
      "No handles with labels found to put in legend.\n"
     ]
    },
    {
     "data": {
      "image/png": "[encoded data removed]",
      "text/plain": [
       "<Figure size 432x288 with 1 Axes>"
      ]
     },
     "metadata": {
      "needs_background": "light"
     },
     "output_type": "display_data"
    }
   ],
   "source": [
    "#define metrics\n",
    "#define metrics\n",
    "import matplotlib.pyplot as plt\n",
    "\n",
    "fprDT, tprDT, _ = metrics.roc_curve(y_test, predictionDT)\n",
    "aucDT = auc(fprDT, tprDT)\n",
    "\n",
    "plt.plot([0, 1], [0, 1], 'k--')\n",
    "plt.plot(fprDT, tprDT)\n",
    "plt.xlabel('False positive rate')\n",
    "plt.ylabel('True positive rate')\n",
    "plt.title('ROC curve')\n",
    "plt.legend(loc='best')\n",
    "plt.savefig('DT3_binary_roc.png')\n",
    "plt.show()"
   ]
  },
  {
   "cell_type": "code",
   "execution_count": 117,
   "metadata": {
    "colab": {
     "base_uri": "https://localhost:8080/"
    },
    "id": "xks78AoSBiLT",
    "outputId": "bbc90207-9827-427d-a04e-c5ce213041b8"
   },
   "outputs": [
    {
     "data": {
      "text/plain": [
       "array([0.        , 0.99987404, 1.        ])"
      ]
     },
     "execution_count": 117,
     "metadata": {},
     "output_type": "execute_result"
    }
   ],
   "source": [
    "tprDT"
   ]
  },
  {
   "cell_type": "code",
   "execution_count": 118,
   "metadata": {
    "colab": {
     "base_uri": "https://localhost:8080/"
    },
    "id": "5WKPQtyfBiH4",
    "outputId": "9d3b7129-8f00-463b-bd8c-ffee9722ea32"
   },
   "outputs": [
    {
     "data": {
      "text/plain": [
       "array([0.00000000e+00, 6.18195556e-04, 1.00000000e+00])"
      ]
     },
     "execution_count": 118,
     "metadata": {},
     "output_type": "execute_result"
    }
   ],
   "source": [
    "fprDT"
   ]
  },
  {
   "cell_type": "code",
   "execution_count": null,
   "metadata": {
    "id": "zsVRpD5RBojx"
   },
   "outputs": [],
   "source": []
  },
  {
   "cell_type": "markdown",
   "metadata": {
    "id": "y1jkjrYj8TPo"
   },
   "source": [
    "## __• Unsupervised learning__"
   ]
  },
  {
   "cell_type": "markdown",
   "metadata": {
    "id": "X_-zzf0z7yT5"
   },
   "source": [
    "### __1 - K-means__"
   ]
  },
  {
   "cell_type": "code",
   "execution_count": 119,
   "metadata": {
    "id": "pHeGhBm_9gYE"
   },
   "outputs": [],
   "source": [
    "# K-means\n",
    "#   Code Here\n",
    "#Import Libraries\n",
    "from sklearn.cluster import KMeans"
   ]
  },
  {
   "cell_type": "code",
   "execution_count": 120,
   "metadata": {
    "colab": {
     "base_uri": "https://localhost:8080/"
    },
    "id": "YYJmRi-y6aaw",
    "outputId": "c8dc8063-d927-4a27-a349-ea6521a3a867"
   },
   "outputs": [
    {
     "name": "stdout",
     "output_type": "stream",
     "text": [
      "------------------------------------------\n",
      "             Intrusion  NoIntrusion\n",
      "Intrusion            0       119068\n",
      "NoIntrusion          0        29110\n",
      "------------------------------------------\n",
      "Accuracy =  0.1964157996302444  %\n",
      "------------------------------------------\n",
      "Precision =  0.1964157996302444  %\n",
      "------------------------------------------\n",
      "Recall =  0.1964157996302444  %\n",
      "------------------------------------------\n",
      "F1 score =  0.19641579963024436  %\n",
      "------------------------------------------\n",
      "Time:  3.563800811767578\n"
     ]
    }
   ],
   "source": [
    "start_time = time.time() # time\n",
    "\n",
    "KMns = KMeans(n_clusters=5,init='k-means++', #also can be random\n",
    "                     random_state=33,algorithm= 'auto'\n",
    ")\n",
    "KMns.fit(X_train, y_train)\n",
    "\n",
    "predictionKMns = KMns.predict(X_test)\n",
    "\n",
    "\n",
    "#matrix best display\n",
    "print(\"------------------------------------------\")\n",
    "cmtx = pd.DataFrame(\n",
    "    confusion_matrix(y_test, predictionKMns, labels=[1,0]), \n",
    "    index=['Intrusion', 'NoIntrusion'], \n",
    "    columns=['Intrusion', 'NoIntrusion']\n",
    ")\n",
    "print(cmtx)\n",
    "\n",
    "## matrix \n",
    "    #print(\"------------------------------------------\")\n",
    "    #matrix = confusion_matrix(y_train, prediction)\n",
    "    #print(matrix)\n",
    "\n",
    "# Accuracy\n",
    "accKMns=accuracy_score(predictionKMns, y_test)\n",
    "print(\"------------------------------------------\")\n",
    "print(\"Accuracy = \",accKMns,\" %\")\n",
    "\n",
    "#precision\n",
    "precisionKMns = precision_score(predictionKMns, y_test, average='micro')\n",
    "print(\"------------------------------------------\")\n",
    "print('Precision = ' ,precisionKMns,\" %\")\n",
    "\n",
    "#Recall\n",
    "recallKMns= recall_score(predictionKMns, y_test, average='micro')\n",
    "print(\"------------------------------------------\")\n",
    "print('Recall = ' ,recallKMns,\" %\")\n",
    "\n",
    "# f1: 2 tp / (2 tp + fp + fn)\n",
    "f1KMns = f1_score(predictionKMns, y_test, average='micro')\n",
    "print(\"------------------------------------------\")\n",
    "print('F1 score = ',f1KMns, \" %\")\n",
    "print(\"------------------------------------------\")\n",
    "\n",
    "#report = classification_report(y_train, prediction)\n",
    "#print(report)\n",
    "\n",
    "#End Time\n",
    "end_time = time.time()\n",
    "print(\"Time: \", end_time-start_time)"
   ]
  },
  {
   "cell_type": "markdown",
   "metadata": {
    "id": "vxRYnhfiB1iA"
   },
   "source": [
    "> <h2> <b>Entropy K-means </b> </2>"
   ]
  },
  {
   "cell_type": "code",
   "execution_count": 121,
   "metadata": {
    "colab": {
     "base_uri": "https://localhost:8080/"
    },
    "id": "Ou4sKBlKB0bw",
    "outputId": "e1244e85-0e66-4bbb-9df6-a3d0e83f41c4"
   },
   "outputs": [
    {
     "name": "stdout",
     "output_type": "stream",
     "text": [
      "Entropy K-means of is: 0.3196709250755321\n"
     ]
    }
   ],
   "source": [
    "#Entropy KNN\n",
    "from math import log\n",
    "\n",
    "print(\"Entropy K-means of is: \" + str(-precisionKMns*log(precisionKMns)))"
   ]
  },
  {
   "cell_type": "code",
   "execution_count": 122,
   "metadata": {
    "colab": {
     "base_uri": "https://localhost:8080/",
     "height": 312
    },
    "id": "4ivuPzSDCHsP",
    "outputId": "fe93b944-c06a-483b-8e11-509934abc0f3"
   },
   "outputs": [
    {
     "name": "stderr",
     "output_type": "stream",
     "text": [
      "No handles with labels found to put in legend.\n"
     ]
    },
    {
     "data": {
      "image/png": "[encoded data removed]",
      "text/plain": [
       "<Figure size 432x288 with 1 Axes>"
      ]
     },
     "metadata": {
      "needs_background": "light"
     },
     "output_type": "display_data"
    }
   ],
   "source": [
    "#define metrics\n",
    "#define metrics\n",
    "import matplotlib.pyplot as plt\n",
    "\n",
    "fprKMns, tprKMns, _ = metrics.roc_curve(y_test, predictionKMns)\n",
    "aucKMns = auc(fprKMns, tprKMns)\n",
    "\n",
    "plt.plot([0, 1], [0, 1], 'k--')\n",
    "plt.plot(fprKMns, tprKMns)\n",
    "plt.xlabel('False positive rate')\n",
    "plt.ylabel('True positive rate')\n",
    "plt.title('ROC curve')\n",
    "plt.legend(loc='best')\n",
    "plt.savefig('KMns3_binary_roc.png')\n",
    "plt.show()"
   ]
  },
  {
   "cell_type": "code",
   "execution_count": 123,
   "metadata": {
    "colab": {
     "base_uri": "https://localhost:8080/"
    },
    "id": "25ED1vtPCHpf",
    "outputId": "fa57c498-0b8c-4946-ae67-83d03c0e62e5"
   },
   "outputs": [
    {
     "data": {
      "text/plain": [
       "array([0.00000000e+00, 8.39708117e-06, 4.19854059e-05, 1.76338705e-04,\n",
       "       1.00000000e+00])"
      ]
     },
     "execution_count": 123,
     "metadata": {},
     "output_type": "execute_result"
    }
   ],
   "source": [
    "tprKMns"
   ]
  },
  {
   "cell_type": "code",
   "execution_count": 95,
   "metadata": {
    "colab": {
     "base_uri": "https://localhost:8080/"
    },
    "id": "2DXzRUJzCk2v",
    "outputId": "3aa6b4ba-58d2-4a74-9c7d-e5004c8f3036"
   },
   "outputs": [
    {
     "data": {
      "text/plain": [
       "array([0.00000000e+00, 1.71720988e-04, 2.40409383e-04, 2.40409383e-04,\n",
       "       1.00000000e+00])"
      ]
     },
     "execution_count": 95,
     "metadata": {},
     "output_type": "execute_result"
    }
   ],
   "source": [
    "fprKMns"
   ]
  },
  {
   "cell_type": "markdown",
   "metadata": {
    "id": "TyHyKEDU7yRa"
   },
   "source": [
    "# __Algorithm Evaluation__"
   ]
  },
  {
   "cell_type": "code",
   "execution_count": null,
   "metadata": {
    "id": "CmHlzu1JK5OV"
   },
   "outputs": [],
   "source": [
    "# hnaya nahbou entrpoy ta3 chaque algorithme m3a chaque seuil kima galina "
   ]
  }
 ],
 "metadata": {
  "colab": {
   "collapsed_sections": [],
   "name": "MI-Code.ipynb",
   "provenance": [],
   "toc_visible": true
  },
  "kernelspec": {
   "display_name": "Python 3 (ipykernel)",
   "language": "python",
   "name": "python3"
  },
  "language_info": {
   "codemirror_mode": {
    "name": "ipython",
    "version": 3
   },
   "file_extension": ".py",
   "mimetype": "text/x-python",
   "name": "python",
   "nbconvert_exporter": "python",
   "pygments_lexer": "ipython3",
   "version": "3.9.7"
  }
 },
 "nbformat": 4,
 "nbformat_minor": 1
}
